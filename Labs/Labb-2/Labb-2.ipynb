{
 "cells": [
  {
   "cell_type": "code",
   "execution_count": 8,
   "metadata": {},
   "outputs": [
    {
     "name": "stdout",
     "output_type": "stream",
     "text": [
      "1.0\n"
     ]
    }
   ],
   "source": [
    "\n",
    "import matplotlib.pyplot as plt\n",
    "import math \n",
    "\n",
    "path = \"datapoints.txt\"\n",
    "\n",
    "with open(path, \"r\") as data:\n",
    "    data_strips = [data_st.strip() for data_st in data]\n",
    "    data_splits = [data_sp.split(\",\") for data_sp in data_strips]\n",
    "    data_floats = [[float(data_splits[i][0]), float(data_splits[i][1]), float(data_splits[i][2])] for i in range(1, len(data_splits))]\n",
    "        \n",
    "data_floats\n",
    "\n",
    "# function...\n",
    "\n",
    "def calculate_distance(x, y, data = []):\n",
    "    shortest_dis = 0 \n",
    "    poke_type = 0\n",
    "    for i in range(len(data)):\n",
    "        x2 = data[i][0]\n",
    "        y2 = data[i][1]\n",
    "\n",
    "        distance = math.sqrt(pow(x - x2, 2) + pow(y - y2, 2))\n",
    "\n",
    "        if distance < shortest_dis or i == 0:\n",
    "            shortest_dis = distance\n",
    "            poke_type = data[i][2]\n",
    "            \n",
    "    return poke_type\n",
    "    \n",
    "print(calculate_distance(25, 32, data_floats))\n",
    "\n",
    "\n",
    "\n"
   ]
  },
  {
   "cell_type": "code",
   "execution_count": 110,
   "metadata": {},
   "outputs": [
    {
     "data": {
      "text/plain": [
       "[[21.959384499160468, 31.23956701424158, 0.0],\n",
       " [19.639358214988224, 34.56117030001663, 0.0]]"
      ]
     },
     "execution_count": 110,
     "metadata": {},
     "output_type": "execute_result"
    }
   ],
   "source": [
    "test_list = [['21.959384499160468', '31.23956701424158', '0'], ['19.639358214988224', '34.56117030001663', '0']]\n",
    "\n",
    "list1 = []\n",
    "\n",
    "x = [[float(test_list[i][0]), float(test_list[i][1]), float(test_list[i][2])] for i in range(len(test_list))]\n",
    "\n",
    "# for i in range(len(test_list)):\n",
    "    \n",
    "#     l = [float(test_list[i][0]), float(test_list[i][1]), float(test_list[i][2])]\n",
    "#     list1.append(l)\n",
    "\n",
    "x\n",
    "\n"
   ]
  },
  {
   "cell_type": "code",
   "execution_count": null,
   "metadata": {},
   "outputs": [],
   "source": []
  }
 ],
 "metadata": {
  "kernelspec": {
   "display_name": "Python 3.9.12 ('base')",
   "language": "python",
   "name": "python3"
  },
  "language_info": {
   "codemirror_mode": {
    "name": "ipython",
    "version": 3
   },
   "file_extension": ".py",
   "mimetype": "text/x-python",
   "name": "python",
   "nbconvert_exporter": "python",
   "pygments_lexer": "ipython3",
   "version": "3.9.12"
  },
  "orig_nbformat": 4,
  "vscode": {
   "interpreter": {
    "hash": "40d3a090f54c6569ab1632332b64b2c03c39dcf918b08424e98f38b5ae0af88f"
   }
  }
 },
 "nbformat": 4,
 "nbformat_minor": 2
}
