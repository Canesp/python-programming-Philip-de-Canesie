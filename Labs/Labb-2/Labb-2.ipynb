{
 "cells": [
  {
   "cell_type": "markdown",
   "metadata": {},
   "source": [
    "### Grunduppgift"
   ]
  },
  {
   "cell_type": "code",
   "execution_count": 2,
   "metadata": {},
   "outputs": [
    {
     "name": "stdout",
     "output_type": "stream",
     "text": [
      "Sample with (width, height): (25.0, 32.0) classified as pikachus\n",
      "Sample with (width, height): (24.2, 31.5) classified as pikachus\n",
      "Sample with (width, height): (22.0, 34.0) classified as pikachus\n",
      "Sample with (width, height): (20.5, 34.0) classified as pichus\n"
     ]
    },
    {
     "data": {
      "image/png": "[encoded data removed]",
      "text/plain": [
       "<Figure size 432x288 with 1 Axes>"
      ]
     },
     "metadata": {
      "needs_background": "light"
     },
     "output_type": "display_data"
    }
   ],
   "source": [
    "import matplotlib.pyplot as plt\n",
    "import numpy as np\n",
    "import math\n",
    "import re\n",
    "\n",
    "dataPoints = []\n",
    "# Gets the training data from file.\n",
    "with open(\"datapoints.txt\", \"r\") as data:\n",
    "\n",
    "    dataPoints = [points.strip() for points in data] # Strips the data from unwanted line breakers. \n",
    "    dataPoints = [points.split(\",\") for points in dataPoints] # Splits the data in to a list.\n",
    "    dataPoints = [[float(dataPoints[i][0]), float(dataPoints[i][1]), float(dataPoints[i][2])] for i in range(1, len(dataPoints))] # Parses the data in to floats.\n",
    "    \n",
    "# Plots the training points on a graph. \n",
    "def plotPoints(dataPoints):\n",
    "    #plots the point depending on if it's a pichus = 0 or pikachus = 1.\n",
    "    dataPoint_array = np.array(dataPoints)\n",
    "    plt.scatter(dataPoint_array[:,0], dataPoint_array[:,1], c= dataPoint_array[:,-1])\n",
    "    plt.title(\"Pichus and Pikachus\")\n",
    "    plt.xlabel(\"width\")\n",
    "    plt.ylabel(\"height\")\n",
    "plotPoints(dataPoints)\n",
    "\n",
    "testPoints = []\n",
    "# Gets the test data from a file.\n",
    "with open(\"testpoints.txt\", \"r\") as testdata:\n",
    "    \n",
    "    testPoints = [re.findall(r'\\d*\\.*\\d+', points[2:]) for points in testdata.readlines()] # takes all numbers from the line.\n",
    "    testPoints = [[float(testPoints[i][0]), float(testPoints[i][1])] for i in range(1, len(testPoints))] # Parses the data in to floats.\n",
    "\n",
    "# Calculates the distance between two points (1x,1y) and (2x,2y).\n",
    "def calculateDistance (x1, x2, y1, y2):\n",
    "    # calculate and returns distance between two points.\n",
    "    return math.sqrt(pow(x1 - x2, 2) + pow(y1 - y2, 2))\n",
    "# Calculates type of pokimon depending on distance. Returns a string with the results.\n",
    "def calculatePokimon(x, y, trainingData = []):\n",
    "    #Variable\n",
    "    shortest_dis = 0 \n",
    "    poke_type = 0\n",
    "    poke_name = \"\"\n",
    "\n",
    "    # Loops through the training data. \n",
    "    for i in range(len(trainingData)):\n",
    "        x2 = trainingData[i][0]\n",
    "        y2 = trainingData[i][1]\n",
    "\n",
    "        distance = calculateDistance(x, x2, y, y2) # Gets the distance.\n",
    "\n",
    "        # Checks the distance.\n",
    "        if distance < shortest_dis or i == 0:\n",
    "            shortest_dis = distance\n",
    "            poke_type = trainingData[i][2]\n",
    "\n",
    "    # Gets the pokemone name.\n",
    "    if poke_type == 0:\n",
    "        poke_name = \"pichus\"\n",
    "    else:\n",
    "        poke_name = \"pikachus\"\n",
    "\n",
    "    return f\"Sample with (width, height): ({x}, {y}) classified as {poke_name}\"\n",
    "\n",
    "for i in range(len(testPoints)):\n",
    "    print(calculatePokimon(testPoints[i][0], testPoints[i][1], dataPoints))\n",
    "\n"
   ]
  },
  {
   "cell_type": "markdown",
   "metadata": {},
   "source": [
    "### Uppgift #1"
   ]
  },
  {
   "cell_type": "code",
   "execution_count": 3,
   "metadata": {},
   "outputs": [
    {
     "name": "stdout",
     "output_type": "stream",
     "text": [
      "Sample with (width, height): (12.0, 45.0) classified as pichus\n"
     ]
    }
   ],
   "source": [
    "# User Input \n",
    "def user_Input():\n",
    "\n",
    "    while True: # Loops input if a error occurs. \n",
    "        # gets user input\n",
    "        input_value = input(\"Input the width and height (width,height): \")\n",
    "\n",
    "        try:\n",
    "            # checks if input is typed right. \n",
    "            if not \",\" in input_value: \n",
    "                raise ValueError(\"You need to Input both Width and height!\")\n",
    "\n",
    "            input_value = input_value.split(\",\") # splits the input --> list \n",
    "            input_value = [float(input_value[i]) for i in range(len(input_value))] # Parses the values in to floats.\n",
    "\n",
    "            #Loops through and checks for value < 0.\n",
    "            for i in range(len(input_value)):\n",
    "                                                        \n",
    "                if not input_value[i] >= 0:                                                            \n",
    "                    raise ValueError(\"width and height need to be a positiv number!\")\n",
    "                                                        \n",
    "            return input_value\n",
    "\n",
    "        except ValueError as e:\n",
    "            print(e)\n",
    "\n",
    "user_value = user_Input()\n",
    "print(calculatePokimon(user_value[0], user_value[1], dataPoints))"
   ]
  },
  {
   "cell_type": "markdown",
   "metadata": {},
   "source": [
    "### Uppgift #2"
   ]
  },
  {
   "cell_type": "code",
   "execution_count": 4,
   "metadata": {},
   "outputs": [
    {
     "name": "stdout",
     "output_type": "stream",
     "text": [
      "Sample with (width, height): (20.5, 34) classified as pichus (8/2)\n"
     ]
    }
   ],
   "source": [
    "\n",
    "def calculatePokimon_majority(x, y, trainingData = []):\n",
    "    distance_list = []\n",
    "\n",
    "    # Loops through the training data. \n",
    "    for i in range(len(trainingData)):\n",
    "        x2 = trainingData[i][0]\n",
    "        y2 = trainingData[i][1]\n",
    "\n",
    "        distance_list.append([calculateDistance(x, x2, y, y2), trainingData[i][2]]) # Gets the distance.\n",
    "\n",
    "    distance_list.sort() # Sorts the list min -> max.\n",
    "    \n",
    "    number_pichus = 0\n",
    "    number_pikachus = 0\n",
    "    type_number = 0\n",
    "    \n",
    "    # checks the 10 first indexs in the list and checks what pokemon.\n",
    "    for i in range(10):\n",
    "       \n",
    "        if distance_list[i][1] == 0:\n",
    "            number_pichus += 1\n",
    "        else:\n",
    "            number_pikachus += 1\n",
    "    \n",
    "    type_number += (number_pichus - number_pikachus)\n",
    "    # Checks for majority and if not takes the nearest point. \n",
    "    if type_number == 0:\n",
    "        if distance_list[0][1] == 0:\n",
    "            type_number += 1\n",
    "        else:\n",
    "            type_number -= 1\n",
    "\n",
    "    poke_name = \"\"\n",
    "    \n",
    "    # Gets the pokemone name.\n",
    "    if type_number > 0:\n",
    "        poke_name = \"pichus\"\n",
    "    else:\n",
    "        poke_name = \"pikachus\"\n",
    "\n",
    "    return f\"Sample with (width, height): ({x}, {y}) classified as {poke_name} ({number_pichus}/{number_pikachus})\"\n",
    "        \n",
    "print(calculatePokimon_majority(20.5, 34, dataPoints))\n",
    " \n",
    "    "
   ]
  },
  {
   "cell_type": "markdown",
   "metadata": {},
   "source": [
    "### Bonusuppgift #3"
   ]
  },
  {
   "cell_type": "code",
   "execution_count": 56,
   "metadata": {},
   "outputs": [],
   "source": [
    "import random\n",
    "import numpy as np\n",
    "\n",
    "pikachus_list = []\n",
    "pichus_list = []\n",
    "test_list = []\n",
    "numbers_pikachu = 0\n",
    "numbers_pichus = 0\n",
    "\n",
    "while True:\n",
    "    \n",
    "    point = random.choice(dataPoints)\n",
    "\n",
    "    if point[:][2] == 0 and numbers_pichus != 50:\n",
    "        pichus_list.append(point)\n",
    "        numbers_pichus += 1\n",
    "    elif point[:][2] == 1 and numbers_pikachu != 50:\n",
    "        pikachus_list.append(point)\n",
    "        numbers_pikachu += 1\n",
    "    else:\n",
    "        test_list.append(point)\n",
    "\n",
    "    if len(test_list) == 50:\n",
    "        break\n",
    "\n",
    "\n",
    "traindata = (pikachus_list + pichus_list)\n"
   ]
  },
  {
   "cell_type": "markdown",
   "metadata": {},
   "source": [
    "### Bonusuppgift #4"
   ]
  },
  {
   "cell_type": "code",
   "execution_count": 58,
   "metadata": {},
   "outputs": [
    {
     "name": "stdout",
     "output_type": "stream",
     "text": [
      "test_list[i][2]=0.0, 0\n",
      "test_list[i][2]=0.0, 0\n",
      "test_list[i][2]=0.0, 0\n",
      "test_list[i][2]=0.0, 0\n",
      "test_list[i][2]=0.0, 0\n",
      "test_list[i][2]=1.0, 1\n",
      "test_list[i][2]=0.0, 0\n",
      "test_list[i][2]=1.0, 1\n",
      "test_list[i][2]=1.0, 1\n",
      "test_list[i][2]=0.0, 0\n",
      "test_list[i][2]=0.0, 0\n",
      "test_list[i][2]=0.0, 0\n",
      "test_list[i][2]=0.0, 0\n",
      "test_list[i][2]=1.0, 1\n",
      "test_list[i][2]=0.0, 0\n",
      "test_list[i][2]=0.0, 0\n",
      "test_list[i][2]=1.0, 1\n",
      "test_list[i][2]=1.0, 1\n",
      "test_list[i][2]=1.0, 1\n",
      "test_list[i][2]=0.0, 0\n",
      "test_list[i][2]=0.0, 0\n",
      "test_list[i][2]=0.0, 0\n",
      "test_list[i][2]=1.0, 1\n",
      "test_list[i][2]=1.0, 1\n",
      "test_list[i][2]=0.0, 0\n",
      "test_list[i][2]=0.0, 0\n",
      "test_list[i][2]=0.0, 0\n",
      "test_list[i][2]=0.0, 0\n",
      "test_list[i][2]=1.0, 1\n",
      "test_list[i][2]=0.0, 0\n",
      "test_list[i][2]=0.0, 0\n",
      "test_list[i][2]=0.0, 0\n",
      "test_list[i][2]=0.0, 1\n",
      "test_list[i][2]=1.0, 1\n",
      "test_list[i][2]=1.0, 1\n",
      "test_list[i][2]=0.0, 0\n",
      "test_list[i][2]=0.0, 0\n",
      "test_list[i][2]=0.0, 0\n",
      "test_list[i][2]=1.0, 1\n",
      "test_list[i][2]=1.0, 1\n",
      "test_list[i][2]=0.0, 0\n",
      "test_list[i][2]=1.0, 1\n",
      "test_list[i][2]=0.0, 0\n",
      "test_list[i][2]=0.0, 0\n",
      "test_list[i][2]=0.0, 0\n",
      "test_list[i][2]=1.0, 1\n",
      "test_list[i][2]=0.0, 0\n",
      "test_list[i][2]=0.0, 0\n",
      "test_list[i][2]=0.0, 0\n",
      "test_list[i][2]=1.0, 0\n",
      "tp=48, tn=2\n",
      "accuracy = 92.0%\n"
     ]
    }
   ],
   "source": [
    "def gettype(text):\n",
    "    split_text = text.split(\" \")\n",
    "\n",
    "    if split_text[-1] == \"pichus\":\n",
    "        return 0 \n",
    "    else:\n",
    "        return 1\n",
    "\n",
    "return_data = []\n",
    "\n",
    "for i in range(len(test_list)):\n",
    "    return_data.append(gettype(calculatePokimon(test_list[i][0], test_list[i][1], traindata)))\n",
    "\n",
    "\n",
    "tp = 0\n",
    "tn = 0\n",
    "\n",
    "for i in range(len(test_list)):\n",
    "    \n",
    "\n",
    "    if test_list[i][2] == return_data[i]:\n",
    "        tp += 1\n",
    "    else:\n",
    "        tn += 1\n",
    "\n",
    "accuracy = (tp - tn)/len(test_list)\n",
    "\n",
    "print(f\"{tp=}, {tn=}\")\n",
    "print(f\"accuracy = {accuracy * 100}%\")\n"
   ]
  },
  {
   "cell_type": "code",
   "execution_count": null,
   "metadata": {},
   "outputs": [],
   "source": []
  }
 ],
 "metadata": {
  "kernelspec": {
   "display_name": "Python 3.9.12 ('base')",
   "language": "python",
   "name": "python3"
  },
  "language_info": {
   "codemirror_mode": {
    "name": "ipython",
    "version": 3
   },
   "file_extension": ".py",
   "mimetype": "text/x-python",
   "name": "python",
   "nbconvert_exporter": "python",
   "pygments_lexer": "ipython3",
   "version": "3.9.12"
  },
  "orig_nbformat": 4,
  "vscode": {
   "interpreter": {
    "hash": "40d3a090f54c6569ab1632332b64b2c03c39dcf918b08424e98f38b5ae0af88f"
   }
  }
 },
 "nbformat": 4,
 "nbformat_minor": 2
}
