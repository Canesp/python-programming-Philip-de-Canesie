{
 "cells": [
  {
   "cell_type": "code",
   "execution_count": 13,
   "metadata": {},
   "outputs": [
    {
     "name": "stdout",
     "output_type": "stream",
     "text": [
      "100\n",
      "40\n"
     ]
    }
   ],
   "source": [
    "from __future__ import annotations\n",
    "\n",
    "class rektangel:\n",
    "\n",
    "    def __init__(self, width: float | int, height: float | int) -> None:\n",
    "        \n",
    "        if not isinstance(width, (int, float)):\n",
    "            raise TypeError(f\"width need to be a int or float, not ({type(width)})\")\n",
    "\n",
    "        if not isinstance(height, (int, float)):\n",
    "            raise TypeError(f\"height need to be a int or float, not ({type(height)})\")\n",
    "\n",
    "        if width < 1:\n",
    "            raise ValueError(f\"widht need to be greater than 0 not ({width})\")\n",
    "        \n",
    "        if height < 1:\n",
    "            raise ValueError(f\"height need to be greater than 0 not ({height})\")\n",
    "\n",
    "        self.width = width\n",
    "        self.height = height\n",
    "\n",
    "    @property\n",
    "    def area(self) -> float:\n",
    "        return self.width * self.height\n",
    "\n",
    "    @property \n",
    "    def omkrets(self) -> float:\n",
    "        return (self.width * 2) + (self.height * 2) \n",
    "\n",
    "    def __eq__(self, other) -> bool:\n",
    "        return (self.area == other.area) and (self.omkrets == other.omkrets)\n",
    "\n",
    "    def __gt__(self, other) -> bool:\n",
    "        return (self.area > other.area) and (self.omkrets > other.omkrets)\n",
    "    \n",
    "    def __ge__(self, other) -> bool:\n",
    "        return (self.area >= self.area) and (self.omkrets >= other.omkrets)\n",
    "\n",
    "\n",
    "r = rektangel(10, 10)\n",
    "\n",
    "print(r.area)\n",
    "print(r.omkrets)\n",
    "\n"
   ]
  },
  {
   "cell_type": "code",
   "execution_count": 20,
   "metadata": {},
   "outputs": [
    {
     "data": {
      "text/plain": [
       "False"
      ]
     },
     "execution_count": 20,
     "metadata": {},
     "output_type": "execute_result"
    }
   ],
   "source": [
    "r1 = rektangel(10, 20)\n",
    "r2 = rektangel(10, 10)\n",
    "\n",
    "r1 <= r2"
   ]
  },
  {
   "cell_type": "code",
   "execution_count": null,
   "metadata": {},
   "outputs": [],
   "source": []
  }
 ],
 "metadata": {
  "kernelspec": {
   "display_name": "Python 3.9.12 ('base')",
   "language": "python",
   "name": "python3"
  },
  "language_info": {
   "codemirror_mode": {
    "name": "ipython",
    "version": 3
   },
   "file_extension": ".py",
   "mimetype": "text/x-python",
   "name": "python",
   "nbconvert_exporter": "python",
   "pygments_lexer": "ipython3",
   "version": "3.9.12"
  },
  "orig_nbformat": 4,
  "vscode": {
   "interpreter": {
    "hash": "40d3a090f54c6569ab1632332b64b2c03c39dcf918b08424e98f38b5ae0af88f"
   }
  }
 },
 "nbformat": 4,
 "nbformat_minor": 2
}
