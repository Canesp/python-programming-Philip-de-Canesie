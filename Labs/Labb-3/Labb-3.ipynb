{
 "cells": [
  {
   "cell_type": "code",
   "execution_count": 15,
   "metadata": {},
   "outputs": [
    {
     "name": "stdout",
     "output_type": "stream",
     "text": [
      "100\n",
      "40\n",
      "10\n"
     ]
    }
   ],
   "source": [
    "from __future__ import annotations\n",
    "\n",
    "class rektangel:\n",
    "\n",
    "    def __init__(self, width: float | int, height: float | int) -> None:\n",
    "        \n",
    "        if not isinstance(width, (int, float)):\n",
    "            raise TypeError(f\"width need to be a int or float, not ({type(width)})\")\n",
    "\n",
    "        if not isinstance(height, (int, float)):\n",
    "            raise TypeError(f\"height need to be a int or float, not ({type(height)})\")\n",
    "\n",
    "        if width < 1:\n",
    "            raise ValueError(f\"widht need to be greater than 0 not ({width})\")\n",
    "        \n",
    "        if height < 1:\n",
    "            raise ValueError(f\"height need to be greater than 0 not ({height})\")\n",
    "\n",
    "        self.width = width\n",
    "        self.height = height\n",
    "\n",
    "    @property\n",
    "    def area(self) -> float:\n",
    "        return self.width * self.height\n",
    "\n",
    "    @property \n",
    "    def omkrets(self) -> float:\n",
    "        return (self.width * 2) + (self.height * 2) \n",
    "\n",
    "\n",
    "r = rektangel(10, 10)\n",
    "\n",
    "print(r.area)\n",
    "print(r.omkrets)\n",
    "\n"
   ]
  },
  {
   "cell_type": "code",
   "execution_count": null,
   "metadata": {},
   "outputs": [],
   "source": []
  }
 ],
 "metadata": {
  "kernelspec": {
   "display_name": "Python 3.9.12 ('base')",
   "language": "python",
   "name": "python3"
  },
  "language_info": {
   "codemirror_mode": {
    "name": "ipython",
    "version": 3
   },
   "file_extension": ".py",
   "mimetype": "text/x-python",
   "name": "python",
   "nbconvert_exporter": "python",
   "pygments_lexer": "ipython3",
   "version": "3.9.12"
  },
  "orig_nbformat": 4,
  "vscode": {
   "interpreter": {
    "hash": "40d3a090f54c6569ab1632332b64b2c03c39dcf918b08424e98f38b5ae0af88f"
   }
  }
 },
 "nbformat": 4,
 "nbformat_minor": 2
}
