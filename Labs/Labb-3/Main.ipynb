{
 "cells": [
  {
   "cell_type": "code",
   "execution_count": 17,
   "metadata": {},
   "outputs": [],
   "source": [
    "from geometry_shapes import Rectangle\n",
    "from geometry_shapes import Circle\n",
    "from geometry_shapes import Cube\n",
    "from geometry_shapes import Sphere\n",
    "from Plot_graph import PlotShapes\n",
    "\n",
    "# creation of 3 objects, The labb 3 test objects \n",
    "cirkel1 = Circle(x=0,y=0, radius=1) # enhetscirkel\n",
    "cirkel2 = Circle(x=1,y=1, radius=1)\n",
    "rektangel = Rectangle(x=0,y=0, width=1, height=1) # kvadrat \n",
    "\n"
   ]
  },
  {
   "cell_type": "markdown",
   "metadata": {},
   "source": [
    "### Labb 3 test run "
   ]
  },
  {
   "cell_type": "code",
   "execution_count": 18,
   "metadata": {},
   "outputs": [
    {
     "name": "stdout",
     "output_type": "stream",
     "text": [
      "True\n",
      "False\n",
      "True\n",
      "False\n"
     ]
    },
    {
     "ename": "TypeError",
     "evalue": "x value need to be a int or float, not -> (<class 'str'>)",
     "output_type": "error",
     "traceback": [
      "\u001b[0;31m---------------------------------------------------------------------------\u001b[0m",
      "\u001b[0;31mTypeError\u001b[0m                                 Traceback (most recent call last)",
      "\u001b[1;32m/Users/philipde.c/Library/CloudStorage/OneDrive-Personal/School-ITHS/Projects/python-programming-Philip-de-Canesie/Labs/Labb-3/Main.ipynb Cell 3\u001b[0m in \u001b[0;36m<cell line: 7>\u001b[0;34m()\u001b[0m\n\u001b[1;32m      <a href='vscode-notebook-cell:/Users/philipde.c/Library/CloudStorage/OneDrive-Personal/School-ITHS/Projects/python-programming-Philip-de-Canesie/Labs/Labb-3/Main.ipynb#W5sZmlsZQ%3D%3D?line=4'>5</a>\u001b[0m cirkel1\u001b[39m.\u001b[39mtranslate(\u001b[39m5\u001b[39m,\u001b[39m5\u001b[39m)\n\u001b[1;32m      <a href='vscode-notebook-cell:/Users/philipde.c/Library/CloudStorage/OneDrive-Personal/School-ITHS/Projects/python-programming-Philip-de-Canesie/Labs/Labb-3/Main.ipynb#W5sZmlsZQ%3D%3D?line=5'>6</a>\u001b[0m \u001b[39mprint\u001b[39m(cirkel1\u001b[39m.\u001b[39mis_inside(\u001b[39m0.5\u001b[39m, \u001b[39m0.5\u001b[39m)) \u001b[39m# False\u001b[39;00m\n\u001b[0;32m----> <a href='vscode-notebook-cell:/Users/philipde.c/Library/CloudStorage/OneDrive-Personal/School-ITHS/Projects/python-programming-Philip-de-Canesie/Labs/Labb-3/Main.ipynb#W5sZmlsZQ%3D%3D?line=6'>7</a>\u001b[0m cirkel1\u001b[39m.\u001b[39;49mtranslate(\u001b[39m\"\u001b[39;49m\u001b[39mTRE\u001b[39;49m\u001b[39m\"\u001b[39;49m,\u001b[39m5\u001b[39;49m)\n",
      "File \u001b[0;32m~/Library/CloudStorage/OneDrive-Personal/School-ITHS/Projects/python-programming-Philip-de-Canesie/Labs/Labb-3/geometry_shapes.py:127\u001b[0m, in \u001b[0;36mshapes.translate\u001b[0;34m(self, x, y)\u001b[0m\n\u001b[1;32m    125\u001b[0m \u001b[39m# checks if x and y are int or float else -> error\u001b[39;00m\n\u001b[1;32m    126\u001b[0m \u001b[39mif\u001b[39;00m \u001b[39mnot\u001b[39;00m \u001b[39misinstance\u001b[39m(x, (\u001b[39mint\u001b[39m, \u001b[39mfloat\u001b[39m)):\n\u001b[0;32m--> 127\u001b[0m     \u001b[39mraise\u001b[39;00m \u001b[39mTypeError\u001b[39;00m(\n\u001b[1;32m    128\u001b[0m         \u001b[39mf\u001b[39m\u001b[39m\"\u001b[39m\u001b[39mx value need to be a int or float, not -> (\u001b[39m\u001b[39m{\u001b[39;00m\u001b[39mtype\u001b[39m(x)\u001b[39m}\u001b[39;00m\u001b[39m)\u001b[39m\u001b[39m\"\u001b[39m\n\u001b[1;32m    129\u001b[0m     )  \u001b[39m# error massage.\u001b[39;00m\n\u001b[1;32m    130\u001b[0m \u001b[39mif\u001b[39;00m \u001b[39mnot\u001b[39;00m \u001b[39misinstance\u001b[39m(y, (\u001b[39mint\u001b[39m, \u001b[39mfloat\u001b[39m)):\n\u001b[1;32m    131\u001b[0m     \u001b[39mraise\u001b[39;00m \u001b[39mTypeError\u001b[39;00m(\n\u001b[1;32m    132\u001b[0m         \u001b[39mf\u001b[39m\u001b[39m\"\u001b[39m\u001b[39my value need to be a int or float, not -> (\u001b[39m\u001b[39m{\u001b[39;00m\u001b[39mtype\u001b[39m(y)\u001b[39m}\u001b[39;00m\u001b[39m)\u001b[39m\u001b[39m\"\u001b[39m\n\u001b[1;32m    133\u001b[0m     )  \u001b[39m# error message.\u001b[39;00m\n",
      "\u001b[0;31mTypeError\u001b[0m: x value need to be a int or float, not -> (<class 'str'>)"
     ]
    }
   ],
   "source": [
    "# Labb 3 test run.\n",
    "print(cirkel1==cirkel2) # True\n",
    "print(cirkel2==rektangel) # False\n",
    "print(cirkel1.is_inside(0.5, 0.5)) # True\n",
    "cirkel1.translate(5,5)\n",
    "print(cirkel1.is_inside(0.5, 0.5)) # False\n",
    "cirkel1.translate(\"TRE\",5) # ge TypeError med lämplig kommentar"
   ]
  },
  {
   "cell_type": "markdown",
   "metadata": {},
   "source": [
    "### more class tests "
   ]
  },
  {
   "cell_type": "code",
   "execution_count": 20,
   "metadata": {},
   "outputs": [
    {
     "name": "stdout",
     "output_type": "stream",
     "text": [
      "True\n",
      "True\n",
      "True\n",
      "True\n",
      "True\n",
      "False\n",
      "True\n",
      "False\n",
      "True\n",
      "False\n",
      "True\n",
      "False\n"
     ]
    }
   ],
   "source": [
    "\n",
    "# objects \n",
    "r1 = Rectangle(x= 0, y= 0, width= 2, height= 1)\n",
    "r2 = Rectangle(x= 2, y= 2, width= 2, height= 2) #kvadrat \n",
    "\n",
    "c1 = Circle(x= -2, y= -2, radius=5) \n",
    "c2 = Circle(x= 0, y= 0, radius=1) # enhetscirkel \n",
    "\n",
    "cu1 = Cube(x= 0, y= 0, z= 0, width= 2, height= 1, depth= 3)\n",
    "cu2 = Cube(x= -2, y= -2, z= -2, width= 3, height= 3, depth= 3) # cube\n",
    "\n",
    "s1 = Sphere(x= 0, y= 0, z= 0, radius= 5)\n",
    "s2 = Sphere(x= 0, y= 0, z= 0, radius= 1) # enhetssfär\n",
    "\n",
    "# is cube, unit cicle... methods \n",
    "\n",
    "print(r2.square()) # True\n",
    "print(c2.unit_Circle()) # True\n",
    "print(cu2.is_cube()) # True\n",
    "print(s2.is_unit_sphere()) # True\n",
    "\n",
    "\n",
    "# == \n",
    "print(r1 == Rectangle(0, 0, 2, 1)) # True\n",
    "print(r1 == r2) # False\n",
    "\n",
    "print(c1 == Circle(0, 0, 5)) # True\n",
    "print(c1 == c2) # False\n",
    "\n",
    "print(cu1 == Cube(0, 0, 0, 2, 1, 3)) # True\n",
    "print(cu1 == cu2) # False\n",
    "\n",
    "print(s1 == Sphere(0, 0, 0, 5)) # True\n",
    "print(s1 == s2) # False\n",
    "\n"
   ]
  },
  {
   "cell_type": "markdown",
   "metadata": {},
   "source": [
    "### is-inside "
   ]
  },
  {
   "cell_type": "code",
   "execution_count": 21,
   "metadata": {},
   "outputs": [
    {
     "name": "stdout",
     "output_type": "stream",
     "text": [
      "True\n",
      "False\n",
      "True\n",
      "False\n",
      "True\n",
      "False\n",
      "True\n",
      "False\n"
     ]
    }
   ],
   "source": [
    "print(r1.is_inside(0.5, 0.25)) # True\n",
    "print(r1.is_inside(5, 0.25)) # False\n",
    "\n",
    "print(c1.is_inside(-3, -3)) # True\n",
    "print(c1.is_inside(6, 0.25)) # False\n",
    "\n",
    "print(cu1.is_inside(0.5, 0.25, 0.5)) # True\n",
    "print(cu1.is_inside(6, 0.25, 3)) # False\n",
    "\n",
    "print(s1.is_inside(3, 2, 2)) # True\n",
    "print(s1.is_inside(-6, 7, 3)) # False"
   ]
  },
  {
   "cell_type": "markdown",
   "metadata": {},
   "source": [
    "### Plot "
   ]
  },
  {
   "cell_type": "code",
   "execution_count": 22,
   "metadata": {},
   "outputs": [
    {
     "data": {
      "image/png": "[encoded data removed]",
      "text/plain": [
       "<Figure size 576x576 with 1 Axes>"
      ]
     },
     "metadata": {
      "needs_background": "light"
     },
     "output_type": "display_data"
    }
   ],
   "source": [
    "# can plot the shapes by using a object from class PlotShapes \n",
    "\n",
    "p1 = PlotShapes(r1, r2, c1, c2)\n",
    "\n",
    "# plot with plot_grapth() method \n",
    "p1.plot_graph()\n",
    "\n"
   ]
  },
  {
   "cell_type": "markdown",
   "metadata": {},
   "source": [
    "### Translate"
   ]
  },
  {
   "cell_type": "code",
   "execution_count": 23,
   "metadata": {},
   "outputs": [
    {
     "name": "stdout",
     "output_type": "stream",
     "text": [
      "0 0 0\n",
      "0 0 0\n",
      "------------------------------\n",
      "10 10 -10\n",
      "-15 2 2\n"
     ]
    },
    {
     "data": {
      "image/png": "[encoded data removed]",
      "text/plain": [
       "<Figure size 576x576 with 1 Axes>"
      ]
     },
     "metadata": {
      "needs_background": "light"
     },
     "output_type": "display_data"
    }
   ],
   "source": [
    "# moves the shapes by adding a x and y cordinate \n",
    "r1.translate(1, 2)\n",
    "r2.translate(5, 10)\n",
    "c1.translate(20, 1)\n",
    "c2.translate(-10, -5)\n",
    "\n",
    "# plots the shape \n",
    "p1.plot_graph()\n",
    "\n",
    "# moves the cube and sphere by adding xyz \n",
    "print(cu1.x, cu1.y, cu1.z)\n",
    "print(s1.x, s1.y, s1.z)\n",
    "\n",
    "cu1.translate(10, 10 ,-10)\n",
    "s1.translate(-15, 2, 2)\n",
    "\n",
    "print(\"---\"*10)\n",
    "print(cu1.x, cu1.y, cu1.z)\n",
    "print(s1.x, s1.y, s1.z)"
   ]
  }
 ],
 "metadata": {
  "kernelspec": {
   "display_name": "Python 3.9.12 ('base')",
   "language": "python",
   "name": "python3"
  },
  "language_info": {
   "codemirror_mode": {
    "name": "ipython",
    "version": 3
   },
   "file_extension": ".py",
   "mimetype": "text/x-python",
   "name": "python",
   "nbconvert_exporter": "python",
   "pygments_lexer": "ipython3",
   "version": "3.9.12"
  },
  "orig_nbformat": 4,
  "vscode": {
   "interpreter": {
    "hash": "40d3a090f54c6569ab1632332b64b2c03c39dcf918b08424e98f38b5ae0af88f"
   }
  }
 },
 "nbformat": 4,
 "nbformat_minor": 2
}
