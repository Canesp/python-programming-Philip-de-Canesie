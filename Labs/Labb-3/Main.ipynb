{
 "cells": [
  {
   "cell_type": "code",
   "execution_count": 8,
   "metadata": {},
   "outputs": [
    {
     "name": "stdout",
     "output_type": "stream",
     "text": [
      "r1.area=40\n",
      "r1.omkrets=26\n",
      "r1.width=5\n",
      "r1.height=8\n",
      "r1.x=10\n",
      "r1.y=10\n",
      "False\n"
     ]
    }
   ],
   "source": [
    "from geometry_shapes import Rektangel\n",
    "from Plot_graph import Plot\n",
    "\n",
    "\n",
    "r1 = Rektangel(10, 10, 5, 8)\n",
    "r2 = Rektangel(10, 20, 10, 32)\n",
    "r3 = Rektangel(1, 5, 5, 7)\n",
    "\n",
    "\n",
    "print(f\"{r1.area=}\")\n",
    "print(f\"{r1.omkrets=}\")\n",
    "print(f\"{r1.width=}\")\n",
    "print(f\"{r1.height=}\")\n",
    "print(f\"{r1.x=}\")\n",
    "print(f\"{r1.y=}\")\n",
    "\n",
    "print(r1 == r2)\n",
    "\n",
    "#p = Plot(r1, r2, r3)\n",
    "#p.graph()\n"
   ]
  },
  {
   "cell_type": "code",
   "execution_count": null,
   "metadata": {},
   "outputs": [],
   "source": []
  },
  {
   "cell_type": "code",
   "execution_count": null,
   "metadata": {},
   "outputs": [],
   "source": []
  }
 ],
 "metadata": {
  "kernelspec": {
   "display_name": "Python 3.9.12 ('base')",
   "language": "python",
   "name": "python3"
  },
  "language_info": {
   "codemirror_mode": {
    "name": "ipython",
    "version": 3
   },
   "file_extension": ".py",
   "mimetype": "text/x-python",
   "name": "python",
   "nbconvert_exporter": "python",
   "pygments_lexer": "ipython3",
   "version": "3.9.12"
  },
  "orig_nbformat": 4,
  "vscode": {
   "interpreter": {
    "hash": "40d3a090f54c6569ab1632332b64b2c03c39dcf918b08424e98f38b5ae0af88f"
   }
  }
 },
 "nbformat": 4,
 "nbformat_minor": 2
}
