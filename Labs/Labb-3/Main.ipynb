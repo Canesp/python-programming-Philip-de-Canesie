{
 "cells": [
  {
   "cell_type": "code",
   "execution_count": 2,
   "metadata": {},
   "outputs": [
    {
     "name": "stdout",
     "output_type": "stream",
     "text": [
      "54\n",
      "200\n",
      "10\n"
     ]
    },
    {
     "ename": "TypeError",
     "evalue": "Object need to have a attribute width",
     "output_type": "error",
     "traceback": [
      "\u001b[0;31m---------------------------------------------------------------------------\u001b[0m",
      "\u001b[0;31mTypeError\u001b[0m                                 Traceback (most recent call last)",
      "\u001b[1;32m/Users/philipde.c/Library/CloudStorage/OneDrive-Personal/School-ITHS/Projects/python-programming-Philip-de-Canesie/Labs/Labb-3/Main.ipynb Cell 1\u001b[0m in \u001b[0;36m<cell line: 16>\u001b[0;34m()\u001b[0m\n\u001b[1;32m     <a href='vscode-notebook-cell:/Users/philipde.c/Library/CloudStorage/OneDrive-Personal/School-ITHS/Projects/python-programming-Philip-de-Canesie/Labs/Labb-3/Main.ipynb#W3sZmlsZQ%3D%3D?line=12'>13</a>\u001b[0m \u001b[39mprint\u001b[39m(r1\u001b[39m.\u001b[39marea)\n\u001b[1;32m     <a href='vscode-notebook-cell:/Users/philipde.c/Library/CloudStorage/OneDrive-Personal/School-ITHS/Projects/python-programming-Philip-de-Canesie/Labs/Labb-3/Main.ipynb#W3sZmlsZQ%3D%3D?line=13'>14</a>\u001b[0m \u001b[39mprint\u001b[39m(r1\u001b[39m.\u001b[39mwidth)\n\u001b[0;32m---> <a href='vscode-notebook-cell:/Users/philipde.c/Library/CloudStorage/OneDrive-Personal/School-ITHS/Projects/python-programming-Philip-de-Canesie/Labs/Labb-3/Main.ipynb#W3sZmlsZQ%3D%3D?line=15'>16</a>\u001b[0m p \u001b[39m=\u001b[39m Plot(r1)\n\u001b[1;32m     <a href='vscode-notebook-cell:/Users/philipde.c/Library/CloudStorage/OneDrive-Personal/School-ITHS/Projects/python-programming-Philip-de-Canesie/Labs/Labb-3/Main.ipynb#W3sZmlsZQ%3D%3D?line=16'>17</a>\u001b[0m p1 \u001b[39m=\u001b[39m Plot(t1)\n",
      "File \u001b[0;32m~/Library/CloudStorage/OneDrive-Personal/School-ITHS/Projects/python-programming-Philip-de-Canesie/Labs/Labb-3/Plot_graph.py:9\u001b[0m, in \u001b[0;36mPlot.__init__\u001b[0;34m(self, *shape)\u001b[0m\n\u001b[1;32m      6\u001b[0m \u001b[39mdef\u001b[39;00m \u001b[39m__init__\u001b[39m(\u001b[39mself\u001b[39m, \u001b[39m*\u001b[39mshape: \u001b[39mobject\u001b[39m) \u001b[39m-\u001b[39m\u001b[39m>\u001b[39m \u001b[39mNone\u001b[39;00m:\n\u001b[1;32m      8\u001b[0m     \u001b[39mif\u001b[39;00m \u001b[39mnot\u001b[39;00m \u001b[39mhasattr\u001b[39m(shape, \u001b[39m'\u001b[39m\u001b[39mself.width\u001b[39m\u001b[39m'\u001b[39m):\n\u001b[0;32m----> 9\u001b[0m         \u001b[39mraise\u001b[39;00m \u001b[39mTypeError\u001b[39;00m(\u001b[39m\"\u001b[39m\u001b[39mObject need to have a attribute width\u001b[39m\u001b[39m\"\u001b[39m)\n\u001b[1;32m     11\u001b[0m     \u001b[39mself\u001b[39m\u001b[39m.\u001b[39mshape \u001b[39m=\u001b[39m shape\n",
      "\u001b[0;31mTypeError\u001b[0m: Object need to have a attribute width"
     ]
    }
   ],
   "source": [
    "from geometry_shapes import Rektangel\n",
    "from Plot_graph import Plot\n",
    "\n",
    "class Test():\n",
    "    a = 54\n",
    "\n",
    "\n",
    "r1 = Rektangel(10, 10, 10, 20)\n",
    "t1 = Test()\n",
    "\n",
    "print(t1.a)\n",
    "\n",
    "print(r1.area)\n",
    "print(r1.width)\n",
    "\n",
    "p = Plot(r1)\n",
    "p1 = Plot(t1)\n",
    "\n"
   ]
  },
  {
   "cell_type": "code",
   "execution_count": null,
   "metadata": {},
   "outputs": [],
   "source": []
  }
 ],
 "metadata": {
  "kernelspec": {
   "display_name": "Python 3.9.12 ('base')",
   "language": "python",
   "name": "python3"
  },
  "language_info": {
   "codemirror_mode": {
    "name": "ipython",
    "version": 3
   },
   "file_extension": ".py",
   "mimetype": "text/x-python",
   "name": "python",
   "nbconvert_exporter": "python",
   "pygments_lexer": "ipython3",
   "version": "3.9.12"
  },
  "orig_nbformat": 4,
  "vscode": {
   "interpreter": {
    "hash": "40d3a090f54c6569ab1632332b64b2c03c39dcf918b08424e98f38b5ae0af88f"
   }
  }
 },
 "nbformat": 4,
 "nbformat_minor": 2
}
