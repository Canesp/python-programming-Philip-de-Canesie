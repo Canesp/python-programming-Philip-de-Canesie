{
 "cells": [
  {
   "cell_type": "markdown",
   "metadata": {},
   "source": [
    "## 1. Video"
   ]
  },
  {
   "cell_type": "code",
   "execution_count": 2,
   "metadata": {},
   "outputs": [],
   "source": [
    "class Video():\n",
    "\n",
    "    def __init__(self, title: str, genre: str, rating: float) -> None:\n",
    "        self.title = title\n",
    "        self.genre = genre\n",
    "        self.rating = rating\n",
    "\n",
    "    def info(self) -> str:\n",
    "        return f\"Video Titel: {self.title}, genre: {self.genre}, rating: {self.rating}\"\n",
    "\n",
    "\n",
    "class TV_serie(Video):\n",
    "\n",
    "    def __init__(self, title: str, genre: str, rating: float, num_episodes: int) -> None:\n",
    "        super().__init__(title, genre, rating)\n",
    "        self.num_episodes = num_episodes\n",
    "\n",
    "    def info(self) -> str:\n",
    "        return f\"Tv series Titel: {self.title}, genre: {self.genre}, rating: {self.rating}, number of episodes: {self.num_episodes}\"\n",
    "\n",
    "class Movie(Video):\n",
    "\n",
    "    def __init__(self, title: str, genre: str, rating: float, duration: float) -> None:\n",
    "        super().__init__(title, genre, rating)\n",
    "        self.duration = duration\n",
    "\n",
    "    def info(self) -> str:\n",
    "        return f\"Movie Titel: {self.title}, genre: {self.genre}, rating: {self.rating}, movie duration: {self.duration}\"\n",
    "\n",
    "class Documentary(Video):\n",
    "    \n",
    "    def __init__(self, title: str, genre: str, rating: float) -> None:\n",
    "        super().__init__(title, genre, rating)\n",
    "\n",
    "\n",
    "    "
   ]
  },
  {
   "cell_type": "code",
   "execution_count": 3,
   "metadata": {},
   "outputs": [
    {
     "name": "stdout",
     "output_type": "stream",
     "text": [
      "Tv series Titel: Pokemon, genre: Cartoon, rating: 4.5, number of episodes: 550\n",
      "Movie Titel: Titanic, genre: Romance, rating: 4.7, movie duration: 194\n",
      "Video Titel: The Code, genre: Math, rating: 4\n"
     ]
    }
   ],
   "source": [
    "pokemon = TV_serie(\"Pokemon\", \"Cartoon\", 4.5, 550)\n",
    "titanic = Movie(\"Titanic\", \"Romance\", 4.7, 194)\n",
    "code = Documentary(\"The Code\", \"Math\", 4)\n",
    "\n",
    "for video in tuple((pokemon, titanic, code)):\n",
    "    print(video.info())"
   ]
  }
 ],
 "metadata": {
  "kernelspec": {
   "display_name": "Python 3.9.12 ('base')",
   "language": "python",
   "name": "python3"
  },
  "language_info": {
   "codemirror_mode": {
    "name": "ipython",
    "version": 3
   },
   "file_extension": ".py",
   "mimetype": "text/x-python",
   "name": "python",
   "nbconvert_exporter": "python",
   "pygments_lexer": "ipython3",
   "version": "3.9.12"
  },
  "orig_nbformat": 4,
  "vscode": {
   "interpreter": {
    "hash": "40d3a090f54c6569ab1632332b64b2c03c39dcf918b08424e98f38b5ae0af88f"
   }
  }
 },
 "nbformat": 4,
 "nbformat_minor": 2
}
