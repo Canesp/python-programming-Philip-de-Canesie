{
 "cells": [
  {
   "cell_type": "markdown",
   "metadata": {},
   "source": [
    "## 1. Unit conversion"
   ]
  },
  {
   "cell_type": "code",
   "execution_count": 42,
   "metadata": {},
   "outputs": [],
   "source": [
    "class UnitConversion():\n",
    "    \n",
    "    def __init__ (self, value):\n",
    "        self.value = value\n",
    "\n",
    "    \n",
    "    def inch_to_cm(self):\n",
    "        return (self._value * 2.54)\n",
    "    \n",
    "    \n",
    "    def foot_to_meters(self):\n",
    "        return (self._value * 0.3048)\n",
    "\n",
    "    \n",
    "    def pound_to_kg(self):\n",
    "        return ((self._value / 2) * 0.90)\n",
    "\n",
    "    @property\n",
    "    def value(self):\n",
    "        return self._value\n",
    "\n",
    "    @value.setter\n",
    "    def value(self, value):\n",
    "        \n",
    "        if not isinstance(value, (int, float)):\n",
    "            raise TypeError(f\"Value needs to be a int or float not ({type(value)})\") \n",
    "\n",
    "        if value <= 0:\n",
    "            raise ValueError(\"Value need to be greater than 0!\")\n",
    "        \n",
    "        self._value = value\n",
    "\n",
    "    def __repr__(self):\n",
    "        return f\"UnitConversion('{self.value}')\"\n"
   ]
  },
  {
   "cell_type": "code",
   "execution_count": 45,
   "metadata": {},
   "outputs": [
    {
     "name": "stdout",
     "output_type": "stream",
     "text": [
      "6.096\n",
      "50.8\n",
      "9.0\n"
     ]
    }
   ],
   "source": [
    "unit = UnitConversion(10)\n",
    "unit.value = 20\n",
    "\n",
    "print(unit.foot_to_meters())\n",
    "print(unit.inch_to_cm())\n",
    "print(unit.pound_to_kg())\n"
   ]
  },
  {
   "cell_type": "markdown",
   "metadata": {},
   "source": [
    "## 2. Person"
   ]
  },
  {
   "cell_type": "code",
   "execution_count": 73,
   "metadata": {},
   "outputs": [],
   "source": [
    "\n",
    "class Person():\n",
    "\n",
    "    def __init__(self, name, age, email):\n",
    "        self.name = name\n",
    "        self.age = age\n",
    "        self.email = email\n",
    "    \n",
    "    def say_hello(self):\n",
    "        print(f\"Hi, my name is {self._name}, I am {self._age} years old, my email address is {self._email}\")\n",
    "\n",
    "    @property\n",
    "    def name(self):\n",
    "        return self._name\n",
    "    \n",
    "    @name.setter\n",
    "    def name(self, name):\n",
    "        if not isinstance(name, str):\n",
    "            raise TypeError(f\"name needs to be a string, not ({type(name)})\")\n",
    "\n",
    "        self._name = name\n",
    "\n",
    "    @property\n",
    "    def age(self):\n",
    "        return self._age\n",
    "\n",
    "    @age.setter\n",
    "    def age(self, age):\n",
    "        if not isinstance(age, (int, float)):\n",
    "            raise TypeError(f\"age needs to be a int or float, not ({type(age)})\")\n",
    "\n",
    "        if not (0 <= age <= 125):\n",
    "            raise ValueError(\"age needs to be between 0 and 125\")\n",
    "        \n",
    "        self._age = age\n",
    "\n",
    "    @property\n",
    "    def email(self):\n",
    "        return self._email\n",
    "\n",
    "    @email.setter\n",
    "    def email(self, email):\n",
    "        if not isinstance(email, str):\n",
    "            raise TypeError(f\"email needs to be a string, not ({type(email)})\")\n",
    "        \n",
    "        if \"@\" not in email:\n",
    "            raise ValueError(\"email needs to containe a '@'\")\n",
    "\n",
    "        self._email = email\n",
    "\n",
    "    def __repr__(self):\n",
    "        return f\"Person('{self._name}', '{self._age}', '{self._email}')\"\n",
    "\n",
    "\n"
   ]
  },
  {
   "cell_type": "code",
   "execution_count": 75,
   "metadata": {},
   "outputs": [
    {
     "name": "stdout",
     "output_type": "stream",
     "text": [
      "Hi, my name is billy, I am 23 years old, my email address is billy@gmail.com\n",
      "None\n"
     ]
    },
    {
     "data": {
      "text/plain": [
       "Person('billy', '23', 'billy@gmail.com')"
      ]
     },
     "execution_count": 75,
     "metadata": {},
     "output_type": "execute_result"
    }
   ],
   "source": [
    "person1 = Person(\"bob\", 10, \"Bob@gmail.com\")\n",
    "person1.age = 23\n",
    "person1.name = \"billy\"\n",
    "person1.email = \"billy@gmail.com\"\n",
    "\n",
    "print(person1.say_hello())\n",
    "\n",
    "person1"
   ]
  },
  {
   "cell_type": "code",
   "execution_count": null,
   "metadata": {},
   "outputs": [],
   "source": []
  }
 ],
 "metadata": {
  "kernelspec": {
   "display_name": "Python 3.9.12 ('base')",
   "language": "python",
   "name": "python3"
  },
  "language_info": {
   "codemirror_mode": {
    "name": "ipython",
    "version": 3
   },
   "file_extension": ".py",
   "mimetype": "text/x-python",
   "name": "python",
   "nbconvert_exporter": "python",
   "pygments_lexer": "ipython3",
   "version": "3.9.12"
  },
  "orig_nbformat": 4,
  "vscode": {
   "interpreter": {
    "hash": "40d3a090f54c6569ab1632332b64b2c03c39dcf918b08424e98f38b5ae0af88f"
   }
  }
 },
 "nbformat": 4,
 "nbformat_minor": 2
}
