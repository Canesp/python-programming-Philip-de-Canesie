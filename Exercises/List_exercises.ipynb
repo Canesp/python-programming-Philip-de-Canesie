{
 "cells": [
  {
   "cell_type": "markdown",
   "metadata": {},
   "source": [
    "## Uppgift #1"
   ]
  },
  {
   "cell_type": "code",
   "execution_count": 2,
   "metadata": {},
   "outputs": [
    {
     "name": "stdout",
     "output_type": "stream",
     "text": [
      "[1, 1, 2, 2, 3, 3, 3, 4, 4, 6]\n"
     ]
    }
   ],
   "source": [
    "import random as rnd\n",
    "\n",
    "# a)\n",
    "\n",
    "dice = []\n",
    "\n",
    "for i in range(0, 10):\n",
    "    dice.append(rnd.randint(1, 6))\n",
    "\n",
    "dice.sort()\n",
    "\n",
    "print(dice)\n"
   ]
  },
  {
   "cell_type": "code",
   "execution_count": 3,
   "metadata": {},
   "outputs": [
    {
     "name": "stdout",
     "output_type": "stream",
     "text": [
      "[6, 4, 4, 3, 3, 3, 2, 2, 1, 1]\n"
     ]
    }
   ],
   "source": [
    "dice.sort(reverse=True)\n",
    "print(dice)"
   ]
  },
  {
   "cell_type": "code",
   "execution_count": 4,
   "metadata": {},
   "outputs": [
    {
     "name": "stdout",
     "output_type": "stream",
     "text": [
      "6\n"
     ]
    }
   ],
   "source": [
    "print(max(dice))"
   ]
  },
  {
   "cell_type": "code",
   "execution_count": 5,
   "metadata": {},
   "outputs": [
    {
     "name": "stdout",
     "output_type": "stream",
     "text": [
      "1\n"
     ]
    }
   ],
   "source": [
    "print(min(dice))"
   ]
  },
  {
   "cell_type": "markdown",
   "metadata": {},
   "source": [
    "## Uppgift #2"
   ]
  },
  {
   "cell_type": "code",
   "execution_count": 6,
   "metadata": {},
   "outputs": [
    {
     "name": "stdout",
     "output_type": "stream",
     "text": [
      "['vegetarisk lasagne', 'spaghetti', 'fisk', 'grönsakssoppa', 'pannkakor']\n",
      "['måndag', 'tisdag', 'onsdag', 'torsdag', 'fredag']\n",
      "måndag: vegetarisk lasagne\n",
      "tisdag: spaghetti\n",
      "onsdag: fisk\n",
      "torsdag: grönsakssoppa\n",
      "fredag: pannkakor\n"
     ]
    }
   ],
   "source": [
    "food = [\"vegetarisk lasagne\", \"spaghetti\", \"fisk\", \"grönsakssoppa\", \"pannkakor\"]\n",
    "weekdays = [\"måndag\", \"tisdag\", \"onsdag\", \"torsdag\", \"fredag\"]\n",
    "# a and b)\n",
    "\n",
    "print(food)\n",
    "print(weekdays)\n",
    "\n",
    "# c)\n",
    "\n",
    "menu = [weekdays, food]\n",
    "\n",
    "for i in range(0, 5):\n",
    "    print(f\"{weekdays[i]}: {food[i]}\")\n"
   ]
  },
  {
   "cell_type": "markdown",
   "metadata": {},
   "source": [
    "## Uppgift #3"
   ]
  },
  {
   "cell_type": "code",
   "execution_count": 13,
   "metadata": {},
   "outputs": [
    {
     "name": "stdout",
     "output_type": "stream",
     "text": [
      "[100, 81, 64, 49, 36, 25, 16, 9, 4, 1, 0, 1, 4, 9, 16, 25, 36, 49, 64, 81, 100]\n"
     ]
    },
    {
     "data": {
      "text/plain": [
       "Text(0.5, 1.0, 'x^2')"
      ]
     },
     "execution_count": 13,
     "metadata": {},
     "output_type": "execute_result"
    },
    {
     "data": {
      "image/png": "[encoded data removed]",
      "text/plain": [
       "<Figure size 432x288 with 1 Axes>"
      ]
     },
     "metadata": {
      "needs_background": "light"
     },
     "output_type": "display_data"
    }
   ],
   "source": [
    "\n",
    "squares = [i**2 for i in range(-10, 11)]\n",
    "print(squares)\n",
    "\n",
    "import matplotlib.pyplot as plt \n",
    "import random as rnd\n",
    "\n",
    "x = [i for i in range(0, 21)]\n",
    "\n",
    "plt.plot(x, squares)\n",
    "plt.title(\"x^2\")\n"
   ]
  },
  {
   "cell_type": "markdown",
   "metadata": {},
   "source": [
    "## Uppgift #4"
   ]
  },
  {
   "cell_type": "code",
   "execution_count": 37,
   "metadata": {},
   "outputs": [
    {
     "name": "stdout",
     "output_type": "stream",
     "text": [
      "['a1', 'b1', 'c1', 'd1', 'e1', 'f1', 'g1', 'h1']\n",
      "['a2', 'b2', 'c2', 'd2', 'e2', 'f2', 'g2', 'h2']\n",
      "['a3', 'b3', 'c3', 'd3', 'e3', 'f3', 'g3', 'h3']\n",
      "['a4', 'b4', 'c4', 'd4', 'e4', 'f4', 'g4', 'h4']\n",
      "['a5', 'b5', 'c5', 'd5', 'e5', 'f5', 'g5', 'h5']\n",
      "['a6', 'b6', 'c6', 'd6', 'e6', 'f6', 'g6', 'h6']\n",
      "['a7', 'b7', 'c7', 'd7', 'e7', 'f7', 'g7', 'h7']\n",
      "['a8', 'b8', 'c8', 'd8', 'e8', 'f8', 'g8', 'h8']\n"
     ]
    }
   ],
   "source": [
    "# a)\n",
    "\n",
    "char = [\"a\", \"b\", \"c\", \"d\", \"e\", \"f\", \"g\", \"h\"]\n",
    "\n",
    "cords = [f\"{char[i]}\" + str(1) for i in range(0,8)]\n",
    "\n",
    "# b)\n",
    "\n",
    "cords = [[f\"{char[i]}\" + str(x + 1) for i in range(0,8)] for x in range(0, 8)]\n",
    "\n",
    "for c in cords:\n",
    "    print(c)"
   ]
  },
  {
   "cell_type": "code",
   "execution_count": null,
   "metadata": {},
   "outputs": [],
   "source": []
  },
  {
   "cell_type": "markdown",
   "metadata": {},
   "source": [
    "## Uppgift #6"
   ]
  },
  {
   "cell_type": "code",
   "execution_count": null,
   "metadata": {},
   "outputs": [],
   "source": [
    "answer = []\n",
    "\n",
    "door = [\"door1\"]"
   ]
  }
 ],
 "metadata": {
  "kernelspec": {
   "display_name": "Python 3.9.12 ('base')",
   "language": "python",
   "name": "python3"
  },
  "language_info": {
   "codemirror_mode": {
    "name": "ipython",
    "version": 3
   },
   "file_extension": ".py",
   "mimetype": "text/x-python",
   "name": "python",
   "nbconvert_exporter": "python",
   "pygments_lexer": "ipython3",
   "version": "3.9.12"
  },
  "orig_nbformat": 4,
  "vscode": {
   "interpreter": {
    "hash": "40d3a090f54c6569ab1632332b64b2c03c39dcf918b08424e98f38b5ae0af88f"
   }
  }
 },
 "nbformat": 4,
 "nbformat_minor": 2
}
