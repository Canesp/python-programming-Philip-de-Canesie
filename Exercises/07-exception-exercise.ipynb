{
 "cells": [
  {
   "cell_type": "markdown",
   "metadata": {},
   "source": [
    "## 1. Find errors"
   ]
  },
  {
   "cell_type": "code",
   "execution_count": 6,
   "metadata": {},
   "outputs": [
    {
     "name": "stdout",
     "output_type": "stream",
     "text": [
      "0.7071067811865476\n"
     ]
    }
   ],
   "source": [
    "import numpy as np # \"Import\"\n",
    "\n",
    "def distance(x,y): # (\":\") \n",
    "    return np.sqrt((0 - x)**2 + (0 - y)**2) # \"return\" och fel formel. \n",
    "\n",
    "print(distance(0.5, 0.5)) # not a list"
   ]
  },
  {
   "cell_type": "markdown",
   "metadata": {},
   "source": [
    "## 2. Find errors"
   ]
  },
  {
   "cell_type": "code",
   "execution_count": 19,
   "metadata": {},
   "outputs": [
    {
     "name": "stdout",
     "output_type": "stream",
     "text": [
      "231 is not four-digit\n",
      "3124 is four-digit\n",
      "-4124 is four-digit\n",
      "-1000 is four-digit\n",
      "-999 is not four-digit\n",
      "1001 is four-digit\n",
      "10000 is four-digit\n",
      "-10000 is four-digit\n",
      "999 is not four-digit\n"
     ]
    }
   ],
   "source": [
    "def is_fourdigit(number):\n",
    "    if abs(number/1000) >= 1: # \":\" abs >= 1\n",
    "        return True # \"True not true\"\n",
    "    else: # \":\" \n",
    "        return False # \"False not false\"\n",
    "\n",
    "# test program\n",
    "test_numbers = [231, 3124, -4124, -1000,-999, 1001, 10000, -10000, 999]\n",
    "\n",
    "for number in test_numbers:\n",
    "    if is_fourdigit(number):\n",
    "        print(f\"{number} is four-digit\")\n",
    "    else:\n",
    "        print(f\"{number} is not four-digit\")\n"
   ]
  },
  {
   "cell_type": "markdown",
   "metadata": {},
   "source": [
    "## 3. Tram"
   ]
  },
  {
   "cell_type": "code",
   "execution_count": 2,
   "metadata": {},
   "outputs": [
    {
     "name": "stdout",
     "output_type": "stream",
     "text": [
      "Number of times you take tram must be between 0 and 100\n",
      "One ticket must cost between 0 and 100 kr\n",
      "monthly ticket must cost between 0 and 1000 kr\n",
      "Cost with one-time tickets 490.0\n",
      "Cost with monthly card 600.0\n",
      "It's worth to buy a monthly card\n"
     ]
    }
   ],
   "source": [
    "\n",
    "\n",
    "def input_handler(question, error_response, value_1, value_2):\n",
    "    while True:\n",
    "        input_response = input(f\"{question} \")\n",
    "        try:\n",
    "            input_response = float(input_response)\n",
    "            if not value_1 <= input_response <= value_2:\n",
    "                raise ValueError(error_response)\n",
    "            return input_response\n",
    "        except ValueError as r:\n",
    "            print(r)\n",
    "\n",
    "\n",
    "number_tickets = input_handler(\"How many times do you take tram in one month?\", \"Number of times you take tram must be between 0 and 100\", 0, 100)\n",
    "ticket_cost = input_handler(\"How much does one ticket cost? (kr)\", \"One ticket must cost between 0 and 100 kr\", 0, 100)\n",
    "monthly_ticket = input_handler(\"How much does one month card cost? (kr)\", \"monthly ticket must cost between 0 and 1000 kr\", 0, 1000)\n",
    "\n",
    "sum = number_tickets * ticket_cost\n",
    "\n",
    "print(f\"Cost with one-time tickets {sum}\")\n",
    "print(f\"Cost with monthly card {monthly_ticket}\")\n",
    "\n",
    "if sum > monthly_ticket:\n",
    "    print(\"It's worth to buy a monthly card\")\n",
    "else:\n",
    "    print(\"It's not worth to buy a monthly card\")\n",
    "\n",
    "\n",
    "\n"
   ]
  },
  {
   "cell_type": "code",
   "execution_count": null,
   "metadata": {},
   "outputs": [],
   "source": []
  }
 ],
 "metadata": {
  "kernelspec": {
   "display_name": "Python 3.9.12 ('base')",
   "language": "python",
   "name": "python3"
  },
  "language_info": {
   "codemirror_mode": {
    "name": "ipython",
    "version": 3
   },
   "file_extension": ".py",
   "mimetype": "text/x-python",
   "name": "python",
   "nbconvert_exporter": "python",
   "pygments_lexer": "ipython3",
   "version": "3.9.12"
  },
  "orig_nbformat": 4,
  "vscode": {
   "interpreter": {
    "hash": "40d3a090f54c6569ab1632332b64b2c03c39dcf918b08424e98f38b5ae0af88f"
   }
  }
 },
 "nbformat": 4,
 "nbformat_minor": 2
}
