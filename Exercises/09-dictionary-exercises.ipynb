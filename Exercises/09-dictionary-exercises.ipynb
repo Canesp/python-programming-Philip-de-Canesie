{
 "cells": [
  {
   "cell_type": "markdown",
   "metadata": {},
   "source": [
    "## 1. Curriculum"
   ]
  },
  {
   "cell_type": "code",
   "execution_count": 8,
   "metadata": {},
   "outputs": [
    {
     "name": "stdout",
     "output_type": "stream",
     "text": [
      "Programmering med Python: 40\n",
      "Intro till AI: 5\n",
      "Databehandling: 25\n",
      "Linjär algebra: 20\n",
      "Statistiska metoder: 30\n",
      "Maskininlärning: 45\n",
      "Djup maskininlärning: 40\n",
      "Databaser: 25\n",
      "LIA 1: 40\n",
      "Dataengineering och agil metodik: 45\n",
      "LIA 2: 70\n",
      "Examensarbete: 15\n",
      "400\n"
     ]
    }
   ],
   "source": [
    "\n",
    "curriculum = {\n",
    "    \"Programmering med Python\": 40,\n",
    "    \"Intro till AI\": 5,\n",
    "    \"Databehandling\": 25,\n",
    "    \"Linjär algebra\": 20,\n",
    "    \"Statistiska metoder\": 30,\n",
    "    \"Maskininlärning\": 45,\n",
    "    \"Djup maskininlärning\": 40,\n",
    "    \"Databaser\": 25,\n",
    "    \"LIA 1\": 40,\n",
    "    \"Dataengineering och agil metodik\": 45,\n",
    "    \"LIA 2\": 70,\n",
    "    \"Examensarbete\": 15,\n",
    "}\n",
    "\n",
    "sum = 0\n",
    "\n",
    "for key, value in curriculum.items():\n",
    "    print(f\"{key}: {value}\")\n",
    "    sum += value\n",
    "\n",
    "print(sum)\n"
   ]
  },
  {
   "cell_type": "markdown",
   "metadata": {},
   "source": [
    "## 2. Dice simulation"
   ]
  },
  {
   "cell_type": "code",
   "execution_count": 16,
   "metadata": {},
   "outputs": [
    {
     "data": {
      "text/plain": [
       "{'1': 166298, '2': 166355, '3': 166908, '4': 166773, '5': 166467, '6': 167199}"
      ]
     },
     "execution_count": 16,
     "metadata": {},
     "output_type": "execute_result"
    }
   ],
   "source": [
    "import random as rnd\n",
    "\n",
    "dices = {\"1\": 0, \"2\": 0, \"3\": 0, \"4\": 0, \"5\": 0, \"6\": 0}\n",
    "\n",
    "for _ in range(1000000):\n",
    "    r = rnd.randint(1, 6)\n",
    "    dices[str(r)] += 1\n",
    "\n",
    "dices"
   ]
  },
  {
   "cell_type": "markdown",
   "metadata": {},
   "source": [
    "## 3. Pokemon lis"
   ]
  },
  {
   "cell_type": "code",
   "execution_count": null,
   "metadata": {},
   "outputs": [],
   "source": [
    "path = \"pokemon_list.txt\"\n",
    "pokedex = {}\n",
    "with open(path, \"r\") as pokemon_data:\n",
    "    pokemon_list = [data.split(\" \") for data in pokemon_data.read().split(\"\\n\")]\n",
    "\n",
    "for i in range(len(pokemon_list)):\n",
    "    pokedex[pokemon_list[i][1]] = f\"{pokemon_list[i][2]}, {pokemon_list[i][0]}\"\n",
    "\n",
    "name = input(\"type the name of the pokemon: \")\n",
    "\n",
    "print(f\"{name}: {pokedex[name]}\")\n"
   ]
  },
  {
   "cell_type": "markdown",
   "metadata": {},
   "source": [
    "## 4. Morse code"
   ]
  },
  {
   "cell_type": "code",
   "execution_count": 56,
   "metadata": {},
   "outputs": [
    {
     "data": {
      "text/plain": [
       "'......--- .--.--.- -....--'"
      ]
     },
     "execution_count": 56,
     "metadata": {},
     "output_type": "execute_result"
    }
   ],
   "source": [
    "\n",
    "with open(\"morse.txt\", \"r\") as morse_data:\n",
    "    morse_list = [data.split(\" \") for data in morse_data.readlines()]\n",
    "\n",
    "morsedex = {}\n",
    "\n",
    "for i in range(len(morse_list)):\n",
    "    morsedex[morse_list[i][0].strip(\":\")] = morse_list[i][1]\n",
    "\n",
    "def morse_converter(text):\n",
    "    text = text.capitalize()\n",
    "    text = list(text)\n",
    "    morse_text = \"\"\n",
    "    for i in range(len(text)):\n",
    "        if text[i] != \" \":\n",
    "            morse_text += (morsedex[text[i].capitalize()])\n",
    "        else:\n",
    "            morse_text += \" \"\n",
    "    return morse_text.replace(\"\\n\", \"\")\n",
    "text = (input(\"text to be converted to morse: \"))\n",
    "\n",
    "morse_converter(text)\n",
    "\n",
    "\n"
   ]
  },
  {
   "cell_type": "code",
   "execution_count": null,
   "metadata": {},
   "outputs": [],
   "source": []
  }
 ],
 "metadata": {
  "kernelspec": {
   "display_name": "Python 3.9.12 ('base')",
   "language": "python",
   "name": "python3"
  },
  "language_info": {
   "codemirror_mode": {
    "name": "ipython",
    "version": 3
   },
   "file_extension": ".py",
   "mimetype": "text/x-python",
   "name": "python",
   "nbconvert_exporter": "python",
   "pygments_lexer": "ipython3",
   "version": "3.9.12"
  },
  "orig_nbformat": 4,
  "vscode": {
   "interpreter": {
    "hash": "40d3a090f54c6569ab1632332b64b2c03c39dcf918b08424e98f38b5ae0af88f"
   }
  }
 },
 "nbformat": 4,
 "nbformat_minor": 2
}
