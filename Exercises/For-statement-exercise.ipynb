{
 "cells": [
  {
   "cell_type": "markdown",
   "metadata": {},
   "source": [
    "## uppgift #1"
   ]
  },
  {
   "cell_type": "code",
   "execution_count": null,
   "metadata": {},
   "outputs": [],
   "source": [
    "# a)\n",
    "\n",
    "for i in range(-10, 11):\n",
    "    print(i)"
   ]
  },
  {
   "cell_type": "code",
   "execution_count": null,
   "metadata": {},
   "outputs": [],
   "source": [
    "# b)\n",
    "\n",
    "for i in range(-10, 11, 2):\n",
    "    print(i)"
   ]
  },
  {
   "cell_type": "markdown",
   "metadata": {},
   "source": [
    "## Uppgift #2"
   ]
  },
  {
   "cell_type": "code",
   "execution_count": null,
   "metadata": {},
   "outputs": [],
   "source": [
    "# a)\n",
    "sum = 0\n",
    "for i in range(1, 101):\n",
    "    sum += i\n",
    "\n",
    "print(sum)"
   ]
  },
  {
   "cell_type": "code",
   "execution_count": null,
   "metadata": {},
   "outputs": [],
   "source": [
    "# b)\n",
    "sum = 0\n",
    "for i in range(1, 101, 2):\n",
    "    sum += i\n",
    "\n",
    "print(sum)"
   ]
  },
  {
   "cell_type": "markdown",
   "metadata": {},
   "source": [
    "## Uppgift #3"
   ]
  },
  {
   "cell_type": "code",
   "execution_count": null,
   "metadata": {},
   "outputs": [],
   "source": [
    "# a)\n",
    "\n",
    "for i in range(0, 11):\n",
    "    print(i * 6)"
   ]
  },
  {
   "cell_type": "code",
   "execution_count": null,
   "metadata": {},
   "outputs": [],
   "source": [
    "# b)\n",
    "\n",
    "start = int(input())\n",
    "end = int(input())\n",
    "\n",
    "for i in range(start, end):\n",
    "    print(i * 6)"
   ]
  },
  {
   "cell_type": "code",
   "execution_count": 11,
   "metadata": {},
   "outputs": [
    {
     "name": "stdout",
     "output_type": "stream",
     "text": [
      "  0   0   0   0   0   0   0   0   0   0   0 \n",
      "  0   1   2   3   4   5   6   7   8   9  10 \n",
      "  0   2   4   6   8  10  12  14  16  18  20 \n",
      "  0   3   6   9  12  15  18  21  24  27  30 \n",
      "  0   4   8  12  16  20  24  28  32  36  40 \n",
      "  0   5  10  15  20  25  30  35  40  45  50 \n",
      "  0   6  12  18  24  30  36  42  48  54  60 \n",
      "  0   7  14  21  28  35  42  49  56  63  70 \n",
      "  0   8  16  24  32  40  48  56  64  72  80 \n",
      "  0   9  18  27  36  45  54  63  72  81  90 \n",
      "  0  10  20  30  40  50  60  70  80  90 100 \n"
     ]
    }
   ],
   "source": [
    "# c)\n",
    "\n",
    "for i in range(0, 11):\n",
    "    for e in range(0, 11):\n",
    "        print(f\"{(i * e) :3}\", end= \" \")\n",
    "    print(\"\")"
   ]
  },
  {
   "cell_type": "markdown",
   "metadata": {},
   "source": [
    "## Uppgift 4"
   ]
  },
  {
   "cell_type": "code",
   "execution_count": 21,
   "metadata": {},
   "outputs": [
    {
     "name": "stdout",
     "output_type": "stream",
     "text": [
      "1\n",
      "2\n",
      "6\n",
      "24\n",
      "120\n",
      "2400\n"
     ]
    }
   ],
   "source": [
    "# a)\n",
    "\n",
    "n = int(input())\n",
    "e = 1\n",
    "\n",
    "for i in range(1, n + 1):\n",
    "    e *= i\n",
    "    print(e)\n",
    "print(e * (n - 1) * n)"
   ]
  },
  {
   "cell_type": "markdown",
   "metadata": {},
   "source": [
    "## Uppgift #5"
   ]
  },
  {
   "cell_type": "code",
   "execution_count": 22,
   "metadata": {},
   "outputs": [
    {
     "name": "stdout",
     "output_type": "stream",
     "text": [
      "Codes guess: 1905\n",
      "Computers number: 1905\n"
     ]
    }
   ],
   "source": [
    "import random as rnd\n",
    "\n",
    "rnd_Number = rnd.randint(1000, 10000)\n",
    "\n",
    "for i in range(1000, 10000):\n",
    "    if i == rnd_Number:\n",
    "        print(f\"Codes guess: {i}\")\n",
    "print(f\"Computers number: {rnd_Number}\")"
   ]
  },
  {
   "cell_type": "markdown",
   "metadata": {},
   "source": [
    "## Uppgift #6"
   ]
  },
  {
   "cell_type": "code",
   "execution_count": 16,
   "metadata": {},
   "outputs": [
    {
     "name": "stdout",
     "output_type": "stream",
     "text": [
      "36893488147419103231\n"
     ]
    }
   ],
   "source": [
    "sum = 1\n",
    "\n",
    "for i in range(1, 65):\n",
    "    sum += 2**i\n",
    "\n",
    "print(sum / 2)"
   ]
  },
  {
   "cell_type": "code",
   "execution_count": null,
   "metadata": {},
   "outputs": [],
   "source": []
  }
 ],
 "metadata": {
  "kernelspec": {
   "display_name": "Python 3.8.9 64-bit",
   "language": "python",
   "name": "python3"
  },
  "language_info": {
   "codemirror_mode": {
    "name": "ipython",
    "version": 3
   },
   "file_extension": ".py",
   "mimetype": "text/x-python",
   "name": "python",
   "nbconvert_exporter": "python",
   "pygments_lexer": "ipython3",
   "version": "3.8.9"
  },
  "orig_nbformat": 4,
  "vscode": {
   "interpreter": {
    "hash": "31f2aee4e71d21fbe5cf8b01ff0e069b9275f58929596ceb00d14d90e3e16cd6"
   }
  }
 },
 "nbformat": 4,
 "nbformat_minor": 2
}
