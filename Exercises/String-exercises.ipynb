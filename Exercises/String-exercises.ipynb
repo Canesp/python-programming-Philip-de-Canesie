{
 "cells": [
  {
   "cell_type": "markdown",
   "metadata": {},
   "source": [
    "## 1. Counting letters"
   ]
  },
  {
   "cell_type": "code",
   "execution_count": 17,
   "metadata": {},
   "outputs": [
    {
     "name": "stdout",
     "output_type": "stream",
     "text": [
      "texten har: 5\n"
     ]
    }
   ],
   "source": [
    "# a)\n",
    "word = input(\"Skriv in en ord: \")\n",
    "word = word.replace(\" \", \"\") #tar bort \" \", \"\"\n",
    "print(f\"texten har: {len(word)}\")"
   ]
  },
  {
   "cell_type": "code",
   "execution_count": 21,
   "metadata": {},
   "outputs": [
    {
     "name": "stdout",
     "output_type": "stream",
     "text": [
      "2\n",
      "3\n"
     ]
    }
   ],
   "source": [
    "# b) \n",
    "\n",
    "def number_of_uppercases(words):\n",
    "    number  = 0\n",
    "    for c in words:\n",
    "        if c.isupper():\n",
    "            number += 1\n",
    "\n",
    "    return number\n",
    "\n",
    "def number_of_lowercases(words):\n",
    "    number  = 0\n",
    "    for c in words:\n",
    "        if c.islower():\n",
    "            number += 1\n",
    "\n",
    "    return number\n",
    "\n",
    "\n",
    "number_uppercases = number_of_uppercases(word)\n",
    "number_lowercases = number_of_lowercases(word)\n",
    "print(number_uppercases)\n",
    "print(number_lowercases)"
   ]
  },
  {
   "cell_type": "markdown",
   "metadata": {},
   "source": [
    "## 2. Counting words"
   ]
  },
  {
   "cell_type": "code",
   "execution_count": 72,
   "metadata": {},
   "outputs": [
    {
     "name": "stdout",
     "output_type": "stream",
     "text": [
      "['A', 'picture', 'says', 'more', 'than', 'a', 'thousand', 'words,', 'a', 'matematical', 'formula', 'says', 'more', 'than', 'a', 'thousand', 'pictures.']\n",
      "17\n"
     ]
    }
   ],
   "source": [
    "text = \"A picture says more than a thousand words, a matematical formula says more than a thousand pictures.\"\n",
    "\n",
    "text_list = text.split()\n",
    "\n",
    "print(len(text_list))"
   ]
  },
  {
   "cell_type": "markdown",
   "metadata": {},
   "source": [
    "## 3. Palindrome"
   ]
  },
  {
   "cell_type": "code",
   "execution_count": 32,
   "metadata": {},
   "outputs": [
    {
     "name": "stdout",
     "output_type": "stream",
     "text": [
      "anna är samma baklänges anna = en palindrome\n"
     ]
    }
   ],
   "source": [
    "characters = input(\"skriv in några char: \")\n",
    "re_characters = characters[::-1] \n",
    "\n",
    "if characters == re_characters:\n",
    "    print(f\"{characters} är samma baklänges {re_characters} = en palindrome\")\n",
    "else:\n",
    "    print(f\"{characters} är inte samma baklänges {re_characters} = inte en palindrome\")"
   ]
  },
  {
   "cell_type": "markdown",
   "metadata": {},
   "source": [
    "## 4. Vowels"
   ]
  },
  {
   "cell_type": "code",
   "execution_count": 19,
   "metadata": {},
   "outputs": [
    {
     "name": "stdout",
     "output_type": "stream",
     "text": [
      "There is 22 vowels in Pure mathematics is, in its way, the poetry of logical ideas\n"
     ]
    }
   ],
   "source": [
    "import re\n",
    "\n",
    "text = \"Pure mathematics is, in its way, the poetry of logical ideas\"\n",
    "\n",
    "number_vowels = re.findall(\"[aeiouyåä]\", text)\n",
    "\n",
    "print(f\"There is {len(number_vowels)} vowels in {text}\")\n"
   ]
  },
  {
   "cell_type": "markdown",
   "metadata": {},
   "source": [
    "## 5. Encryption"
   ]
  },
  {
   "cell_type": "code",
   "execution_count": 65,
   "metadata": {},
   "outputs": [
    {
     "name": "stdout",
     "output_type": "stream",
     "text": [
      "z a\n",
      "abc\n",
      "a b\n",
      "bbc\n",
      "b c\n",
      "ccc\n",
      "c d\n",
      "ddd\n",
      "d e\n",
      "eee\n",
      "e f\n",
      "fff\n",
      "f g\n",
      "ggg\n",
      "g h\n",
      "hhh\n",
      "h i\n",
      "iii\n",
      "i j\n",
      "jjj\n",
      "j k\n",
      "kkk\n",
      "k l\n",
      "lll\n",
      "l m\n",
      "mmm\n",
      "m n\n",
      "nnn\n",
      "n o\n",
      "ooo\n",
      "o p\n",
      "ppp\n",
      "p q\n",
      "qqq\n",
      "q r\n",
      "rrr\n",
      "r s\n",
      "sss\n",
      "s t\n",
      "ttt\n",
      "t u\n",
      "uuu\n",
      "u v\n",
      "vvv\n",
      "v w\n",
      "www\n",
      "w x\n",
      "xxx\n",
      "x y\n",
      "yyy\n",
      "y z\n",
      "zzz\n",
      "zzz\n"
     ]
    }
   ],
   "source": [
    "\n",
    "text = input(\"skriv in något: \")\n",
    "\n",
    "alphabet = list(\"abcdefghijklmnopqrstuvwxyz\")\n",
    "\n",
    "#encryption = [re.sub(alphabet[i], alphabet[i + 1], text) for i in range(len(alphabet)) if i < (len(alphabet) - 1)]\n",
    "\n",
    "for i in range(len(alphabet)):\n",
    "    print(alphabet[i - 1], alphabet[i])\n",
    "    text = re.sub(alphabet[(i - 1)], alphabet[i], text)\n",
    "    print(text)\n",
    "    \n",
    "\n",
    "\n",
    "print(text)\n",
    "\n",
    "#encryption = [re.sub(alphabet[i], alphabet[i + 1]) for i in len(alphabet)]\n",
    "\n"
   ]
  },
  {
   "cell_type": "code",
   "execution_count": 54,
   "metadata": {},
   "outputs": [
    {
     "name": "stdout",
     "output_type": "stream",
     "text": [
      "y z\n"
     ]
    }
   ],
   "source": []
  }
 ],
 "metadata": {
  "kernelspec": {
   "display_name": "Python 3.9.12 ('base')",
   "language": "python",
   "name": "python3"
  },
  "language_info": {
   "codemirror_mode": {
    "name": "ipython",
    "version": 3
   },
   "file_extension": ".py",
   "mimetype": "text/x-python",
   "name": "python",
   "nbconvert_exporter": "python",
   "pygments_lexer": "ipython3",
   "version": "3.9.12"
  },
  "orig_nbformat": 4,
  "vscode": {
   "interpreter": {
    "hash": "40d3a090f54c6569ab1632332b64b2c03c39dcf918b08424e98f38b5ae0af88f"
   }
  }
 },
 "nbformat": 4,
 "nbformat_minor": 2
}
