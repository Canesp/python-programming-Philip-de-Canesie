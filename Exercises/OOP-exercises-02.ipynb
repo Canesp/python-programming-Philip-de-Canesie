{
 "cells": [
  {
   "cell_type": "markdown",
   "metadata": {},
   "source": [
    "## OOP exercises - inheritance and polymorphism"
   ]
  },
  {
   "cell_type": "markdown",
   "metadata": {},
   "source": [
    "### 2. Fraction"
   ]
  },
  {
   "cell_type": "code",
   "execution_count": 15,
   "metadata": {},
   "outputs": [],
   "source": [
    "class Frac():\n",
    "\n",
    "    def __init__(self, nominator: int, denominator: int) -> None:\n",
    "        self.nominator = nominator\n",
    "        self.denominator = denominator\n",
    "\n",
    "    def simplify(self, value = None): # simplifies to most simple form unless value is given \n",
    "        n = 1\n",
    "        \n",
    "        for i in range(self.nominator, 1, -1):\n",
    "            \n",
    "            if self.nominator % i == 0 and self.denominator % i == 0:\n",
    "                n = i\n",
    "\n",
    "        return f\"{int(self.nominator / n)}/{int(self.denominator / n)}\"\n",
    "\n",
    "\n",
    "    def __str__(self): # represent the fraction in a neat way for printing\n",
    "        return f\"{self.nominator}/{self.denominator}\"\n",
    "\n",
    "    def mixed(self): # represent the fraction in mixed terms \n",
    "        \n",
    "        h = 0\n",
    "        n = self.nominator\n",
    "        d = self.denominator\n",
    "\n",
    "        if self.nominator >= self.denominator: \n",
    "\n",
    "            while not n - d < 0:\n",
    "\n",
    "                h += 1 \n",
    "                n -= d\n",
    "                \n",
    "            if n > 0:\n",
    "                return f\"{h}({n}/{d})\"\n",
    "            else:\n",
    "                return f\"{h}\"\n",
    "        else:\n",
    "            return f\"({n}/{d})\"\n",
    "\n",
    "\n",
    "    def __eq__(self, other): # checks equality by overloading ==\n",
    "        pass"
   ]
  },
  {
   "cell_type": "code",
   "execution_count": 17,
   "metadata": {},
   "outputs": [
    {
     "name": "stdout",
     "output_type": "stream",
     "text": [
      "5/4\n",
      "1(2/8)\n"
     ]
    }
   ],
   "source": [
    "f = Frac(4, 8)\n",
    "print(f.simplify())\n",
    "print(f.mixed())"
   ]
  },
  {
   "cell_type": "code",
   "execution_count": null,
   "metadata": {},
   "outputs": [],
   "source": []
  }
 ],
 "metadata": {
  "kernelspec": {
   "display_name": "Python 3.9.12 ('base')",
   "language": "python",
   "name": "python3"
  },
  "language_info": {
   "codemirror_mode": {
    "name": "ipython",
    "version": 3
   },
   "file_extension": ".py",
   "mimetype": "text/x-python",
   "name": "python",
   "nbconvert_exporter": "python",
   "pygments_lexer": "ipython3",
   "version": "3.9.12"
  },
  "orig_nbformat": 4,
  "vscode": {
   "interpreter": {
    "hash": "40d3a090f54c6569ab1632332b64b2c03c39dcf918b08424e98f38b5ae0af88f"
   }
  }
 },
 "nbformat": 4,
 "nbformat_minor": 2
}
