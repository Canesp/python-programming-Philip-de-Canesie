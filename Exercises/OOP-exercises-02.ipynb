{
 "cells": [
  {
   "cell_type": "markdown",
   "metadata": {},
   "source": [
    "## OOP exercises - inheritance and polymorphism"
   ]
  },
  {
   "cell_type": "markdown",
   "metadata": {},
   "source": [
    "### 2. Fraction"
   ]
  },
  {
   "cell_type": "code",
   "execution_count": 4,
   "metadata": {},
   "outputs": [],
   "source": [
    "class Frac():\n",
    "\n",
    "    def __init__(self, nominator: int, denominator: int) -> None:\n",
    "        self.nominator = nominator\n",
    "        self.denominator = denominator\n",
    "\n",
    "    def simplify(self, value = None): # simplifies to most simple form unless value is given \n",
    "        n = 1\n",
    "        \n",
    "        for i in range(self.nominator, 1, -1):\n",
    "            \n",
    "            if self.nominator % i == 0 and self.denominator % i == 0:\n",
    "                n = i\n",
    "\n",
    "        return (int(self.nominator / n), int(self.denominator / n))\n",
    "\n",
    "\n",
    "    def __str__(self): # represent the fraction in a neat way for printing\n",
    "        return f\"{self.nominator}/{self.denominator}\"\n",
    "\n",
    "    def mixed(self): # represent the fraction in mixed terms \n",
    "        \n",
    "        h = 0\n",
    "        n = self.nominator\n",
    "        d = self.denominator\n",
    "\n",
    "        if self.nominator >= self.denominator: \n",
    "\n",
    "            while not self.nominator - d < 0:\n",
    "\n",
    "                h += 1 \n",
    "                self.nominator -= d\n",
    "                \n",
    "            if self.nominator > 0:\n",
    "                a, b = self.simplify()\n",
    "                s = f\"{h}({a}/{b})\"\n",
    "                self.nominator = n\n",
    "                return s\n",
    "            else:\n",
    "                self.nominator = n\n",
    "                return f\"{h}\"\n",
    "        else:\n",
    "            self.nominator = n\n",
    "            return f\"({n}/{d})\"\n",
    "\n",
    "\n",
    "    def __eq__(self, other): # checks equality by overloading ==\n",
    "        \n",
    "        n1, d1 = self.simplify()\n",
    "        n2, d2 = other.simplify()\n",
    "\n",
    "        return n1 == n2\n",
    "\n",
    "    def __add__(self, other):\n",
    "        \n",
    "        n1 = self.nominator\n",
    "        d1 = self.denominator\n",
    "        n2 = other.nominator\n",
    "        d2 = other.denominator\n",
    "\n",
    "        if n2 >= d2:\n",
    "            return f\"{n1 + n2}/{d1}\"\n",
    "        else:\n",
    "            n3 = (n1) + (d1 * n2)\n",
    "            d3 = (d1 * d2)\n",
    "            \n",
    "            self.nominator = n3\n",
    "            self.denominator = d3\n",
    "\n",
    "            s1, s2 = self.simplify()\n",
    "\n",
    "            self.nominator = n1\n",
    "            self.denominator = n2\n",
    "\n",
    "            return f\"{s1}/{s2}\""
   ]
  },
  {
   "cell_type": "code",
   "execution_count": 14,
   "metadata": {},
   "outputs": [
    {
     "name": "stdout",
     "output_type": "stream",
     "text": [
      "(4, 3)\n",
      "1(1/3)\n",
      "(2, 4)\n",
      "(1, 2)\n"
     ]
    },
    {
     "data": {
      "text/plain": [
       "False"
      ]
     },
     "execution_count": 14,
     "metadata": {},
     "output_type": "execute_result"
    }
   ],
   "source": [
    "f = Frac(8, 6)\n",
    "print(f.simplify())\n",
    "print(f.mixed())\n",
    "\n",
    "f1 = Frac(4, 8)\n",
    "f2 = Frac(1, 2)\n",
    "print(f1.simplify())\n",
    "print(f2.simplify())\n",
    "\n",
    "f1==f2\n",
    "\n",
    "\n",
    "\n",
    "# Frac(1, 4)+Frac(4, 2)\n",
    "\n",
    "\n",
    "# Frac(1, 4)"
   ]
  },
  {
   "cell_type": "code",
   "execution_count": null,
   "metadata": {},
   "outputs": [],
   "source": []
  }
 ],
 "metadata": {
  "kernelspec": {
   "display_name": "Python 3.9.12 ('base')",
   "language": "python",
   "name": "python3"
  },
  "language_info": {
   "codemirror_mode": {
    "name": "ipython",
    "version": 3
   },
   "file_extension": ".py",
   "mimetype": "text/x-python",
   "name": "python",
   "nbconvert_exporter": "python",
   "pygments_lexer": "ipython3",
   "version": "3.9.12"
  },
  "orig_nbformat": 4,
  "vscode": {
   "interpreter": {
    "hash": "40d3a090f54c6569ab1632332b64b2c03c39dcf918b08424e98f38b5ae0af88f"
   }
  }
 },
 "nbformat": 4,
 "nbformat_minor": 2
}
