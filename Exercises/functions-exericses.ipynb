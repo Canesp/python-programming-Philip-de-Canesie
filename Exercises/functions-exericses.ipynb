{
 "cells": [
  {
   "cell_type": "markdown",
   "metadata": {},
   "source": [
    "## 1. Area"
   ]
  },
  {
   "cell_type": "code",
   "execution_count": 1,
   "metadata": {},
   "outputs": [
    {
     "name": "stdout",
     "output_type": "stream",
     "text": [
      "20.0\n"
     ]
    }
   ],
   "source": [
    "b = int(input(\"skriv in en bred: \"))\n",
    "h = int(input(\"skriv in en höjd: \"))\n",
    "\n",
    "def Area(b, h):\n",
    "    return (b * h) / 2\n",
    "\n",
    "print(Area(b, h))\n"
   ]
  },
  {
   "cell_type": "markdown",
   "metadata": {},
   "source": [
    "## 2. Euclidean distance"
   ]
  },
  {
   "cell_type": "code",
   "execution_count": 18,
   "metadata": {},
   "outputs": [
    {
     "name": "stdout",
     "output_type": "stream",
     "text": [
      "14.142135623730951\n"
     ]
    }
   ],
   "source": [
    "import math\n",
    "\n",
    "# a and b)\n",
    "\n",
    "p = input(\"skriv in (x,y) för pos1: \")\n",
    "q = input(\"skriv in (x,y) för pos2: \")\n",
    "\n",
    "p = [int(p) for p in p.split(\",\")]\n",
    "q = [int(q) for q in q.split(\",\")]\n",
    "\n",
    "def Euclidean(p, q):\n",
    "    return math.sqrt(math.pow(p[0] - q[0], 2) + math.pow(p[1] - q[1], 2))\n",
    "\n",
    "print(Euclidean(p, q))\n"
   ]
  },
  {
   "cell_type": "code",
   "execution_count": 16,
   "metadata": {},
   "outputs": [
    {
     "name": "stdout",
     "output_type": "stream",
     "text": [
      "10.44030650891055\n",
      "9.055385138137417\n",
      "14.142135623730951\n",
      "4.47213595499958\n",
      "13.45362404707371\n"
     ]
    }
   ],
   "source": [
    "# c)\n",
    "\n",
    "p2 = [0, 0]\n",
    "q2 = [(10, 3), (-1, -9), (10, -10), (4, -2), (9, -10)]\n",
    "\n",
    "for i in range(len(q2)):\n",
    "    print(Euclidean(p2, q2[i]))\n",
    "\n",
    "\n"
   ]
  },
  {
   "cell_type": "code",
   "execution_count": null,
   "metadata": {},
   "outputs": [],
   "source": []
  }
 ],
 "metadata": {
  "kernelspec": {
   "display_name": "Python 3.9.12 ('base')",
   "language": "python",
   "name": "python3"
  },
  "language_info": {
   "name": "python",
   "version": "3.9.12"
  },
  "orig_nbformat": 4,
  "vscode": {
   "interpreter": {
    "hash": "40d3a090f54c6569ab1632332b64b2c03c39dcf918b08424e98f38b5ae0af88f"
   }
  }
 },
 "nbformat": 4,
 "nbformat_minor": 2
}
