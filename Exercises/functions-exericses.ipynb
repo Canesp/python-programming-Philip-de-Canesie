{
 "cells": [
  {
   "cell_type": "markdown",
   "metadata": {},
   "source": [
    "## 1. Area"
   ]
  },
  {
   "cell_type": "code",
   "execution_count": 1,
   "metadata": {},
   "outputs": [
    {
     "name": "stdout",
     "output_type": "stream",
     "text": [
      "20.0\n"
     ]
    }
   ],
   "source": [
    "b = int(input(\"skriv in en bred: \"))\n",
    "h = int(input(\"skriv in en höjd: \"))\n",
    "\n",
    "def Area(b, h):\n",
    "    return (b * h) / 2\n",
    "\n",
    "print(Area(b, h))\n"
   ]
  },
  {
   "cell_type": "markdown",
   "metadata": {},
   "source": [
    "## 2. Euclidean distance"
   ]
  },
  {
   "cell_type": "code",
   "execution_count": 18,
   "metadata": {},
   "outputs": [
    {
     "name": "stdout",
     "output_type": "stream",
     "text": [
      "14.142135623730951\n"
     ]
    }
   ],
   "source": [
    "import math\n",
    "\n",
    "# a and b)\n",
    "\n",
    "p = input(\"skriv in (x,y) för pos1: \")\n",
    "q = input(\"skriv in (x,y) för pos2: \")\n",
    "\n",
    "p = [int(p) for p in p.split(\",\")]\n",
    "q = [int(q) for q in q.split(\",\")]\n",
    "\n",
    "def Euclidean(p, q):\n",
    "    return math.sqrt(math.pow(p[0] - q[0], 2) + math.pow(p[1] - q[1], 2))\n",
    "\n",
    "print(Euclidean(p, q))\n"
   ]
  },
  {
   "cell_type": "code",
   "execution_count": 16,
   "metadata": {},
   "outputs": [
    {
     "name": "stdout",
     "output_type": "stream",
     "text": [
      "10.44030650891055\n",
      "9.055385138137417\n",
      "14.142135623730951\n",
      "4.47213595499958\n",
      "13.45362404707371\n"
     ]
    }
   ],
   "source": [
    "# c)\n",
    "\n",
    "p2 = [0, 0]\n",
    "q2 = [(10, 3), (-1, -9), (10, -10), (4, -2), (9, -10)]\n",
    "\n",
    "for i in range(len(q2)):\n",
    "    print(Euclidean(p2, q2[i]))\n",
    "\n",
    "\n"
   ]
  },
  {
   "cell_type": "markdown",
   "metadata": {},
   "source": [
    "## 3. Mathematical functions"
   ]
  },
  {
   "cell_type": "code",
   "execution_count": 40,
   "metadata": {},
   "outputs": [
    {
     "name": "stdout",
     "output_type": "stream",
     "text": [
      "1.0204081632653068\n"
     ]
    },
    {
     "data": {
      "image/png": "[encoded data removed]",
      "text/plain": [
       "<Figure size 432x288 with 1 Axes>"
      ]
     },
     "metadata": {
      "needs_background": "light"
     },
     "output_type": "display_data"
    }
   ],
   "source": [
    "import matplotlib.pyplot as plt\n",
    "import numpy as np\n",
    "\n",
    "def f_function(x):\n",
    "    return (x**2 - 3)\n",
    "\n",
    "def g_function(x):\n",
    "    return ((4 * x) - 7)\n",
    "\n",
    "x = np.linspace(-10,10)\n",
    "\n",
    "f_list = [f_function(i) for i in x]\n",
    "g_list = [g_function(i) for i in x]\n",
    "\n",
    "# a) and b)\n",
    "plt.title(\"f(x) and g(x)\")\n",
    "plt.plot(x, f_list)\n",
    "plt.plot(x, g_list)\n",
    "\n",
    "\n"
   ]
  },
  {
   "cell_type": "markdown",
   "metadata": {},
   "source": [
    "## 4. Name cleaner "
   ]
  },
  {
   "cell_type": "code",
   "execution_count": 71,
   "metadata": {},
   "outputs": [
    {
     "name": "stdout",
     "output_type": "stream",
     "text": [
      "Marcus\n",
      "Ida Anderson\n",
      "Olof Olofsson\n"
     ]
    }
   ],
   "source": [
    "\n",
    "from ntpath import join\n",
    "\n",
    "\n",
    "names = [\"  MaRcUs \", \" iDA aNderSon\", \"OLOF Olofsson            \"  ]\n",
    "\n",
    "def nameCleaner(name):\n",
    "    \n",
    "    n = name.split()\n",
    "    for i in range(len(n)):\n",
    "        \n",
    "        n[i] = n[i].lower()\n",
    "        n[i] = n[i].title()\n",
    "\n",
    "    n = \" \".join(n)\n",
    "    return n    \n",
    "\n",
    "for i in range(len(names)):\n",
    "    print(nameCleaner(names[i]))\n",
    "\n"
   ]
  },
  {
   "cell_type": "markdown",
   "metadata": {},
   "source": [
    "## 5. Change"
   ]
  },
  {
   "cell_type": "code",
   "execution_count": 23,
   "metadata": {},
   "outputs": [
    {
     "name": "stdout",
     "output_type": "stream",
     "text": [
      "5st 1000-lapp\n",
      "1st 500-lapp\n",
      "1st 100-lapp\n",
      "2st 20-lapp\n",
      "1st 5-kr\n",
      "1st 2kr\n",
      "\n"
     ]
    }
   ],
   "source": [
    "value = int(input(\"skriv en summa: \"))\n",
    "\n",
    "def calculate_Change(value):\n",
    "    change = [[\"1000-lapp\", 1000], [\"500-lapp\", 500], [\"200-lapp\", 200], [\"100-lapp\", 100], [\"50-lapp\", 50], [\"20-lapp\", 20], [\"10-kr\", 10], [\"5-kr\", 5], [\"2kr\", 2], [\"1-kr\", 1]]\n",
    "    return_Change = \"\"\n",
    "    v = value\n",
    "    number = 0\n",
    "    for i in range(len(change)):\n",
    "        while v >= 0:\n",
    "            if (v - change[i][1]) >= 0:\n",
    "                v -= (change[i][1])\n",
    "                number += 1\n",
    "            else:\n",
    "                if number != 0:\n",
    "                    return_Change += f\"{number}st {change[i][0]}\\n\"\n",
    "                    number = 0\n",
    "                else:\n",
    "                    break \n",
    "    return return_Change\n",
    "\n",
    "print(calculate_Change(value))\n",
    "\n",
    "\n"
   ]
  },
  {
   "cell_type": "code",
   "execution_count": null,
   "metadata": {},
   "outputs": [],
   "source": []
  },
  {
   "cell_type": "code",
   "execution_count": null,
   "metadata": {},
   "outputs": [],
   "source": []
  }
 ],
 "metadata": {
  "kernelspec": {
   "display_name": "Python 3.9.12 ('base')",
   "language": "python",
   "name": "python3"
  },
  "language_info": {
   "name": "python",
   "version": "3.9.12"
  },
  "orig_nbformat": 4,
  "vscode": {
   "interpreter": {
    "hash": "40d3a090f54c6569ab1632332b64b2c03c39dcf918b08424e98f38b5ae0af88f"
   }
  }
 },
 "nbformat": 4,
 "nbformat_minor": 2
}
