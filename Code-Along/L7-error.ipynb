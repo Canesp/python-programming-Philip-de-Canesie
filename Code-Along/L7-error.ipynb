{
 "cells": [
  {
   "cell_type": "markdown",
   "metadata": {},
   "source": [
    "## Errors"
   ]
  },
  {
   "cell_type": "code",
   "execution_count": 1,
   "metadata": {},
   "outputs": [
    {
     "ename": "NameError",
     "evalue": "name 'prin' is not defined",
     "output_type": "error",
     "traceback": [
      "\u001b[0;31m---------------------------------------------------------------------------\u001b[0m",
      "\u001b[0;31mNameError\u001b[0m                                 Traceback (most recent call last)",
      "\u001b[1;32m/Users/philipde.c/Library/CloudStorage/OneDrive-Personal/School-ITHS/Projects/python-programming-Philip-de-Canesie/Code-Along/L7-error.ipynb Cell 2\u001b[0m in \u001b[0;36m<cell line: 2>\u001b[0;34m()\u001b[0m\n\u001b[1;32m      <a href='vscode-notebook-cell:/Users/philipde.c/Library/CloudStorage/OneDrive-Personal/School-ITHS/Projects/python-programming-Philip-de-Canesie/Code-Along/L7-error.ipynb#W3sZmlsZQ%3D%3D?line=0'>1</a>\u001b[0m \u001b[39m# syntax error\u001b[39;00m\n\u001b[0;32m----> <a href='vscode-notebook-cell:/Users/philipde.c/Library/CloudStorage/OneDrive-Personal/School-ITHS/Projects/python-programming-Philip-de-Canesie/Code-Along/L7-error.ipynb#W3sZmlsZQ%3D%3D?line=1'>2</a>\u001b[0m prin(\u001b[39m\"\u001b[39m\u001b[39mhej hej\u001b[39m\u001b[39m\"\u001b[39m)\n",
      "\u001b[0;31mNameError\u001b[0m: name 'prin' is not defined"
     ]
    }
   ],
   "source": [
    "# syntax error\n",
    "prin(\"hej hej\")"
   ]
  },
  {
   "cell_type": "code",
   "execution_count": 2,
   "metadata": {},
   "outputs": [
    {
     "name": "stdout",
     "output_type": "stream",
     "text": [
      "Hej denna koden fungerar \n"
     ]
    }
   ],
   "source": [
    "print(\"Hej denna koden fungerar \")"
   ]
  },
  {
   "cell_type": "code",
   "execution_count": 3,
   "metadata": {},
   "outputs": [
    {
     "ename": "SyntaxError",
     "evalue": "invalid syntax (3347360805.py, line 2)",
     "output_type": "error",
     "traceback": [
      "\u001b[0;36m  Input \u001b[0;32mIn [3]\u001b[0;36m\u001b[0m\n\u001b[0;31m    print(\"då\")\u001b[0m\n\u001b[0m    ^\u001b[0m\n\u001b[0;31mSyntaxError\u001b[0m\u001b[0;31m:\u001b[0m invalid syntax\n"
     ]
    }
   ],
   "source": [
    "print(\"hej\"\n",
    "print(\"då\")"
   ]
  },
  {
   "cell_type": "code",
   "execution_count": 6,
   "metadata": {},
   "outputs": [
    {
     "name": "stdout",
     "output_type": "stream",
     "text": [
      "start funk1\n",
      "start funk2\n",
      "start funk3\n"
     ]
    },
    {
     "ename": "ZeroDivisionError",
     "evalue": "division by zero",
     "output_type": "error",
     "traceback": [
      "\u001b[0;31m---------------------------------------------------------------------------\u001b[0m",
      "\u001b[0;31mZeroDivisionError\u001b[0m                         Traceback (most recent call last)",
      "\u001b[1;32m/Users/philipde.c/Library/CloudStorage/OneDrive-Personal/School-ITHS/Projects/python-programming-Philip-de-Canesie/Code-Along/L7-error.ipynb Cell 5\u001b[0m in \u001b[0;36m<cell line: 13>\u001b[0;34m()\u001b[0m\n\u001b[1;32m     <a href='vscode-notebook-cell:/Users/philipde.c/Library/CloudStorage/OneDrive-Personal/School-ITHS/Projects/python-programming-Philip-de-Canesie/Code-Along/L7-error.ipynb#W6sZmlsZQ%3D%3D?line=9'>10</a>\u001b[0m     \u001b[39mprint\u001b[39m(\u001b[39m\"\u001b[39m\u001b[39mstart funk3\u001b[39m\u001b[39m\"\u001b[39m)\n\u001b[1;32m     <a href='vscode-notebook-cell:/Users/philipde.c/Library/CloudStorage/OneDrive-Personal/School-ITHS/Projects/python-programming-Philip-de-Canesie/Code-Along/L7-error.ipynb#W6sZmlsZQ%3D%3D?line=10'>11</a>\u001b[0m     \u001b[39m3\u001b[39m\u001b[39m/\u001b[39m\u001b[39m0\u001b[39m\n\u001b[0;32m---> <a href='vscode-notebook-cell:/Users/philipde.c/Library/CloudStorage/OneDrive-Personal/School-ITHS/Projects/python-programming-Philip-de-Canesie/Code-Along/L7-error.ipynb#W6sZmlsZQ%3D%3D?line=12'>13</a>\u001b[0m funk1()\n",
      "\u001b[1;32m/Users/philipde.c/Library/CloudStorage/OneDrive-Personal/School-ITHS/Projects/python-programming-Philip-de-Canesie/Code-Along/L7-error.ipynb Cell 5\u001b[0m in \u001b[0;36mfunk1\u001b[0;34m()\u001b[0m\n\u001b[1;32m      <a href='vscode-notebook-cell:/Users/philipde.c/Library/CloudStorage/OneDrive-Personal/School-ITHS/Projects/python-programming-Philip-de-Canesie/Code-Along/L7-error.ipynb#W6sZmlsZQ%3D%3D?line=0'>1</a>\u001b[0m \u001b[39mdef\u001b[39;00m \u001b[39mfunk1\u001b[39m():\n\u001b[1;32m      <a href='vscode-notebook-cell:/Users/philipde.c/Library/CloudStorage/OneDrive-Personal/School-ITHS/Projects/python-programming-Philip-de-Canesie/Code-Along/L7-error.ipynb#W6sZmlsZQ%3D%3D?line=1'>2</a>\u001b[0m     \u001b[39mprint\u001b[39m(\u001b[39m\"\u001b[39m\u001b[39mstart funk1\u001b[39m\u001b[39m\"\u001b[39m)\n\u001b[0;32m----> <a href='vscode-notebook-cell:/Users/philipde.c/Library/CloudStorage/OneDrive-Personal/School-ITHS/Projects/python-programming-Philip-de-Canesie/Code-Along/L7-error.ipynb#W6sZmlsZQ%3D%3D?line=2'>3</a>\u001b[0m     funk2()\n",
      "\u001b[1;32m/Users/philipde.c/Library/CloudStorage/OneDrive-Personal/School-ITHS/Projects/python-programming-Philip-de-Canesie/Code-Along/L7-error.ipynb Cell 5\u001b[0m in \u001b[0;36mfunk2\u001b[0;34m()\u001b[0m\n\u001b[1;32m      <a href='vscode-notebook-cell:/Users/philipde.c/Library/CloudStorage/OneDrive-Personal/School-ITHS/Projects/python-programming-Philip-de-Canesie/Code-Along/L7-error.ipynb#W6sZmlsZQ%3D%3D?line=4'>5</a>\u001b[0m \u001b[39mdef\u001b[39;00m \u001b[39mfunk2\u001b[39m():\n\u001b[1;32m      <a href='vscode-notebook-cell:/Users/philipde.c/Library/CloudStorage/OneDrive-Personal/School-ITHS/Projects/python-programming-Philip-de-Canesie/Code-Along/L7-error.ipynb#W6sZmlsZQ%3D%3D?line=5'>6</a>\u001b[0m     \u001b[39mprint\u001b[39m(\u001b[39m\"\u001b[39m\u001b[39mstart funk2\u001b[39m\u001b[39m\"\u001b[39m)\n\u001b[0;32m----> <a href='vscode-notebook-cell:/Users/philipde.c/Library/CloudStorage/OneDrive-Personal/School-ITHS/Projects/python-programming-Philip-de-Canesie/Code-Along/L7-error.ipynb#W6sZmlsZQ%3D%3D?line=6'>7</a>\u001b[0m     funk3()\n",
      "\u001b[1;32m/Users/philipde.c/Library/CloudStorage/OneDrive-Personal/School-ITHS/Projects/python-programming-Philip-de-Canesie/Code-Along/L7-error.ipynb Cell 5\u001b[0m in \u001b[0;36mfunk3\u001b[0;34m()\u001b[0m\n\u001b[1;32m      <a href='vscode-notebook-cell:/Users/philipde.c/Library/CloudStorage/OneDrive-Personal/School-ITHS/Projects/python-programming-Philip-de-Canesie/Code-Along/L7-error.ipynb#W6sZmlsZQ%3D%3D?line=8'>9</a>\u001b[0m \u001b[39mdef\u001b[39;00m \u001b[39mfunk3\u001b[39m():\n\u001b[1;32m     <a href='vscode-notebook-cell:/Users/philipde.c/Library/CloudStorage/OneDrive-Personal/School-ITHS/Projects/python-programming-Philip-de-Canesie/Code-Along/L7-error.ipynb#W6sZmlsZQ%3D%3D?line=9'>10</a>\u001b[0m     \u001b[39mprint\u001b[39m(\u001b[39m\"\u001b[39m\u001b[39mstart funk3\u001b[39m\u001b[39m\"\u001b[39m)\n\u001b[0;32m---> <a href='vscode-notebook-cell:/Users/philipde.c/Library/CloudStorage/OneDrive-Personal/School-ITHS/Projects/python-programming-Philip-de-Canesie/Code-Along/L7-error.ipynb#W6sZmlsZQ%3D%3D?line=10'>11</a>\u001b[0m     \u001b[39m3\u001b[39;49m\u001b[39m/\u001b[39;49m\u001b[39m0\u001b[39;49m\n",
      "\u001b[0;31mZeroDivisionError\u001b[0m: division by zero"
     ]
    }
   ],
   "source": [
    "def funk1():\n",
    "    print(\"start funk1\")\n",
    "    funk2()\n",
    "\n",
    "def funk2():\n",
    "    print(\"start funk2\")\n",
    "    funk3()\n",
    "\n",
    "def funk3():\n",
    "    print(\"start funk3\")\n",
    "    3/0\n",
    "\n",
    "funk1()\n"
   ]
  },
  {
   "cell_type": "markdown",
   "metadata": {},
   "source": [
    "## Logical error"
   ]
  },
  {
   "cell_type": "code",
   "execution_count": 8,
   "metadata": {},
   "outputs": [
    {
     "name": "stdout",
     "output_type": "stream",
     "text": [
      "12.566370614359172\n"
     ]
    }
   ],
   "source": [
    "import math\n",
    "\n",
    "circumference = lambda radius: math.pi * radius**2\n",
    "\n",
    "print(circumference(2))\n",
    "\n",
    "# the program does what it has been told\n",
    "# we are using the wrong math function. (logical error)  \n"
   ]
  },
  {
   "cell_type": "markdown",
   "metadata": {},
   "source": [
    "## Try-except"
   ]
  },
  {
   "cell_type": "code",
   "execution_count": 9,
   "metadata": {},
   "outputs": [
    {
     "name": "stdout",
     "output_type": "stream",
     "text": [
      "Du är 54.0 år gammal\n"
     ]
    }
   ],
   "source": [
    "age = input(\"Ange din ålder: \")\n",
    "\n",
    "age = float(age)\n",
    "\n",
    "print(f\"Du är {age} år gammal\")"
   ]
  },
  {
   "cell_type": "code",
   "execution_count": 10,
   "metadata": {},
   "outputs": [
    {
     "name": "stdout",
     "output_type": "stream",
     "text": [
      "could not convert string to float: 'fem'\n",
      "Du är fem år gammal\n"
     ]
    }
   ],
   "source": [
    "age = input(\"Ange din ålder: \")\n",
    "\n",
    "try:\n",
    "    age = float(age)\n",
    "except ValueError as r:\n",
    "    print(r)\n",
    "\n",
    "\n",
    "print(f\"Du är {age} år gammal\")"
   ]
  },
  {
   "cell_type": "code",
   "execution_count": 17,
   "metadata": {},
   "outputs": [
    {
     "name": "stdout",
     "output_type": "stream",
     "text": [
      "could not convert string to float: 'fem'\n",
      "du måste skriva in en ålder mellan 0 och 125!\n"
     ]
    }
   ],
   "source": [
    "\n",
    "\n",
    "while True:\n",
    "    \n",
    "    age = input(\"Ange din ålder: \")\n",
    "\n",
    "    try:\n",
    "        age = float(age)\n",
    "        if not 0 <= age <= 125:\n",
    "            raise ValueError(f\"du måste skriva in en ålder mellan 0 och 125!\")\n",
    "        break\n",
    "    except ValueError as r:\n",
    "        print(r)\n",
    "\n",
    "\n",
    "print(f\"Du är {age} år gammal\")"
   ]
  },
  {
   "cell_type": "code",
   "execution_count": null,
   "metadata": {},
   "outputs": [],
   "source": []
  }
 ],
 "metadata": {
  "kernelspec": {
   "display_name": "Python 3.9.12 ('base')",
   "language": "python",
   "name": "python3"
  },
  "language_info": {
   "codemirror_mode": {
    "name": "ipython",
    "version": 3
   },
   "file_extension": ".py",
   "mimetype": "text/x-python",
   "name": "python",
   "nbconvert_exporter": "python",
   "pygments_lexer": "ipython3",
   "version": "3.9.12"
  },
  "orig_nbformat": 4,
  "vscode": {
   "interpreter": {
    "hash": "40d3a090f54c6569ab1632332b64b2c03c39dcf918b08424e98f38b5ae0af88f"
   }
  }
 },
 "nbformat": 4,
 "nbformat_minor": 2
}
