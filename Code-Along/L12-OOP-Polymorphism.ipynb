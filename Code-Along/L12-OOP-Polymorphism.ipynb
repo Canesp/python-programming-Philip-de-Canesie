{
 "cells": [
  {
   "cell_type": "markdown",
   "metadata": {},
   "source": [
    "## OOP Polymorphism"
   ]
  },
  {
   "cell_type": "code",
   "execution_count": 1,
   "metadata": {},
   "outputs": [
    {
     "name": "stdout",
     "output_type": "stream",
     "text": [
      "len([1,23,4])=3\n",
      "len('1234')=4\n"
     ]
    }
   ],
   "source": [
    "# example with python built-in\n",
    "print(f\"{len([1,23,4])=}\")\n",
    "print(f\"{len('1234')=}\") "
   ]
  },
  {
   "cell_type": "markdown",
   "metadata": {},
   "source": [
    "## Polymorphism in class method"
   ]
  },
  {
   "cell_type": "code",
   "execution_count": 8,
   "metadata": {},
   "outputs": [
    {
     "name": "stdout",
     "output_type": "stream",
     "text": [
      "I am a Fish with name Guppie\n"
     ]
    },
    {
     "data": {
      "text/plain": [
       "\"Fish('name: Guppie')\""
      ]
     },
     "execution_count": 8,
     "metadata": {},
     "output_type": "execute_result"
    }
   ],
   "source": [
    "class Fish():\n",
    "    def __init__(self, name) -> None:\n",
    "        self.name = name\n",
    "    \n",
    "    # overrided dunder string method.\n",
    "    def __str__(self):\n",
    "        return f\"I am a Fish with name {self.name}\"\n",
    "\n",
    "    # overrided.\n",
    "    def __repr__(self) -> str:\n",
    "        return f\"Fish('name: {self.name}')\"\n",
    "\n",
    "    def speak(self):\n",
    "        print(\"Bluppy, Bluppy\")\n",
    "\n",
    "class Fox():\n",
    "\n",
    "    def __init__(self, name) -> None:\n",
    "        self.name = name\n",
    "\n",
    "    def __str__(self) -> str:\n",
    "        return f\"I am a fox with name {self.name}, my sound is myserious\"\n",
    "\n",
    "    def speak(self):\n",
    "        return NotImplemented\n",
    "\n",
    "\n",
    "fish1 = Fish(\"Guppie\")\n",
    "print(fish1)\n",
    "repr(fish1)\n",
    "    "
   ]
  },
  {
   "cell_type": "code",
   "execution_count": 9,
   "metadata": {},
   "outputs": [
    {
     "name": "stdout",
     "output_type": "stream",
     "text": [
      "I am a Fish with name Guppie\n",
      "Bluppy, Bluppy\n",
      "I am a fox with name Ylvis, my sound is myserious\n"
     ]
    }
   ],
   "source": [
    "fox1 = Fox(\"Ylvis\")\n",
    "animals = (fish1, fox1)\n",
    "\n",
    "for animal in animals:\n",
    "    print(animal)\n",
    "    animal.speak()"
   ]
  },
  {
   "cell_type": "markdown",
   "metadata": {},
   "source": [
    "## Operator overloading "
   ]
  },
  {
   "cell_type": "code",
   "execution_count": 41,
   "metadata": {},
   "outputs": [
    {
     "name": "stdout",
     "output_type": "stream",
     "text": [
      "Vector(1.0, 2.0, 3.0)\n",
      "Vectors cant be empty\n",
      "(-1.0, -2.0)\n"
     ]
    }
   ],
   "source": [
    "from __future__ import annotations\n",
    "import numbers\n",
    "\n",
    "class Vector():\n",
    "    \"\"\"A Class to represent Euclidean vector with magnitude and diraction\"\"\"\n",
    "\n",
    "    # *numbers -> arbitrary numbers of positional arguments. \n",
    "    def __init__(self, *numbers: float | int) -> None:\n",
    "        for number in numbers:\n",
    "            if not isinstance(number, (float, int)):\n",
    "                raise TypeError(f\"{number} is not a valid number\")\n",
    "\n",
    "        if len(numbers) <= 0:\n",
    "            raise ValueError(\"Vectors cant be empty\")\n",
    "        \n",
    "        self._numbers = tuple(float(number) for number in numbers)\n",
    "\n",
    "    @property\n",
    "    def numbers(self) -> tuple:\n",
    "        \"\"\"Returns numbers\"\"\"\n",
    "        return self._numbers\n",
    "\n",
    "    #operator overload + \n",
    "    def __add__(self, other: Vector) -> Vector:\n",
    "        if self.validate_Vector(other):\n",
    "            # (1,2) + (2,3) = (1+2, 2+3)\n",
    "            numbers = (a+b for a,b in zip(self.numbers, other.numbers))\n",
    "            return Vector(*numbers)\n",
    "\n",
    "    def __sub__(self, other: Vector) -> Vector:\n",
    "        if self.validate_Vector(other):\n",
    "            numbers = (a-b for a,b in zip(self.numbers, other.numbers))\n",
    "            return Vector(*numbers)\n",
    "\n",
    "    def validate_Vector(self, other: Vector) -> Vector:\n",
    "        \"\"\"Validate if two vectors have same length\"\"\"\n",
    "        if not isinstance(other, Vector) or len(other) != len(self):\n",
    "            raise TypeError(\"Both must be Vector and have same lenght\")\n",
    "        return len(self) == len(other)\n",
    "\n",
    "    # to use len on vector we have to overload it.\n",
    "    def __len__(self) -> int:\n",
    "        \"\"\"Returns number of elements in a vector not the lenght of the vector\"\"\"\n",
    "        return len(self.numbers)\n",
    "\n",
    "    def __repr__(self) -> str:\n",
    "        return f\"Vector{self._numbers}\"\n",
    "        \n",
    "\n",
    "\n",
    "#Vector(\"123\", 3, 4)\n",
    "v1 = Vector(1, 2, 3)\n",
    "print(v1)\n",
    "\n",
    "try:\n",
    "    v2 = Vector()\n",
    "\n",
    "except ValueError as err:\n",
    "    print(err) \n",
    "\n",
    "v2 = Vector(-1, -2)\n",
    "print(v2.numbers)\n",
    "\n",
    "\n",
    "v3 = Vector(2,3)"
   ]
  },
  {
   "cell_type": "code",
   "execution_count": 45,
   "metadata": {},
   "outputs": [
    {
     "name": "stdout",
     "output_type": "stream",
     "text": [
      "v2=Vector(-1.0, -2.0), v3=Vector(2.0, 3.0)\n",
      "Vector(1.0, 1.0)\n"
     ]
    },
    {
     "data": {
      "text/plain": [
       "Vector(-1.0, 1.0)"
      ]
     },
     "execution_count": 45,
     "metadata": {},
     "output_type": "execute_result"
    }
   ],
   "source": [
    "print(f\"{v2=}, {v3=}\")\n",
    "print(v2.__add__(v3))\n",
    "v3+v2\n",
    "v3-Vector(3,2)"
   ]
  },
  {
   "cell_type": "code",
   "execution_count": 43,
   "metadata": {},
   "outputs": [
    {
     "data": {
      "text/plain": [
       "2"
      ]
     },
     "execution_count": 43,
     "metadata": {},
     "output_type": "execute_result"
    }
   ],
   "source": [
    "len(v2)"
   ]
  },
  {
   "cell_type": "code",
   "execution_count": null,
   "metadata": {},
   "outputs": [],
   "source": []
  }
 ],
 "metadata": {
  "kernelspec": {
   "display_name": "Python 3.9.12 ('base')",
   "language": "python",
   "name": "python3"
  },
  "language_info": {
   "codemirror_mode": {
    "name": "ipython",
    "version": 3
   },
   "file_extension": ".py",
   "mimetype": "text/x-python",
   "name": "python",
   "nbconvert_exporter": "python",
   "pygments_lexer": "ipython3",
   "version": "3.9.12"
  },
  "orig_nbformat": 4,
  "vscode": {
   "interpreter": {
    "hash": "40d3a090f54c6569ab1632332b64b2c03c39dcf918b08424e98f38b5ae0af88f"
   }
  }
 },
 "nbformat": 4,
 "nbformat_minor": 2
}
