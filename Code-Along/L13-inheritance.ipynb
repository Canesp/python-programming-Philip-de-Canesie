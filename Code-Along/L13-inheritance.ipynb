{
 "cells": [
  {
   "cell_type": "markdown",
   "metadata": {},
   "source": [
    "## Inheritance and composition"
   ]
  },
  {
   "cell_type": "code",
   "execution_count": 19,
   "metadata": {},
   "outputs": [
    {
     "name": "stdout",
     "output_type": "stream",
     "text": [
      "OldCoinStash(owner='Ivar')\n",
      "Coins in stash: 0 riksdaler, 0 skilling\n",
      "--------------------------------------------------\n",
      "Student Bob speaks Java\n",
      "Person billy says hi!\n",
      "Person Ivar says hi!\n"
     ]
    }
   ],
   "source": [
    "import re\n",
    "from oldcoins import OldCoinsStash\n",
    "\n",
    "class Person:\n",
    "\n",
    "    def __init__(self, name: str, age: int) -> None:\n",
    "        self.name = name\n",
    "        self.age = age\n",
    "\n",
    "    @property\n",
    "    def age(self) -> int:\n",
    "        return self._age\n",
    "\n",
    "    @age.setter\n",
    "    def age(self, value: int) -> None:\n",
    "        if not isinstance(value, int):\n",
    "            raise TypeError(f\"value needs to be a int or float not a {type(value)=}\")\n",
    "        self._age = value\n",
    "\n",
    "    @property\n",
    "    def name(self) -> str:\n",
    "        return self._name\n",
    "\n",
    "    @name.setter\n",
    "    def name(self, value: str) -> None:\n",
    "        if re.search(r\"^[A-ö]+(\\s[A-ö]+)?$\", value.strip()) is None:\n",
    "            raise ValueError(f\"{value} is not a valid name\")\n",
    "        self._name = value\n",
    "\n",
    "    def say_hi(self) -> None:\n",
    "        print(f\"Person {self.name} says hi!\")\n",
    "\n",
    "\n",
    "class Student(Person):\n",
    "    \"\"\"Student is a person that knows a language\"\"\"\n",
    "\n",
    "    # Override __init__()\n",
    "\n",
    "    def __init__(self, name: str, age: int, language: str) -> None:\n",
    "        # With Super() we look at the parent class and uses their __init__().\n",
    "        # delegating to parent.\n",
    "        super().__init__(name, age)\n",
    "        self.language = language\n",
    "\n",
    "    def say_hi(self) -> None:\n",
    "        print(f\"Student {self.name} speaks {self.language}\")\n",
    "\n",
    "\n",
    "\n",
    "class Viking(Person):\n",
    "    \"\"\"Viking is a Person that has a oldCoinStash\"\"\"\n",
    "    \n",
    "    def __init__(self, name: str, age: int) -> None:\n",
    "        super().__init__(name, age)\n",
    "        self.stash = OldCoinsStash(self.name)\n",
    "\n",
    "#Subclass inherits from the superclass, childclass inherits from the parentclass Student(Person) \n",
    "student1 = Student(\"Bob\", 32, \"Java\")\n",
    "person1 = Person(\"billy\", 21)\n",
    "viking1 = Viking(\"Ivar\", 43)\n",
    "\n",
    "print(viking1.stash)\n",
    "print(viking1.stash.check_balance())\n",
    "\n",
    "print(\"-\"*50)\n",
    "for person in (student1, person1, viking1):\n",
    "    person.say_hi()\n",
    "\n"
   ]
  },
  {
   "cell_type": "code",
   "execution_count": 11,
   "metadata": {},
   "outputs": [],
   "source": [
    "\n",
    "try:\n",
    "    p = Person(\"Philip\", 65)\n",
    "\n",
    "except ValueError as err:\n",
    "    \n",
    "    print(err)"
   ]
  },
  {
   "cell_type": "code",
   "execution_count": null,
   "metadata": {},
   "outputs": [],
   "source": []
  }
 ],
 "metadata": {
  "kernelspec": {
   "display_name": "Python 3.9.12 ('base')",
   "language": "python",
   "name": "python3"
  },
  "language_info": {
   "codemirror_mode": {
    "name": "ipython",
    "version": 3
   },
   "file_extension": ".py",
   "mimetype": "text/x-python",
   "name": "python",
   "nbconvert_exporter": "python",
   "pygments_lexer": "ipython3",
   "version": "3.9.12"
  },
  "orig_nbformat": 4,
  "vscode": {
   "interpreter": {
    "hash": "40d3a090f54c6569ab1632332b64b2c03c39dcf918b08424e98f38b5ae0af88f"
   }
  }
 },
 "nbformat": 4,
 "nbformat_minor": 2
}
