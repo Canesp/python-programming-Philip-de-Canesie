{
 "cells": [
  {
   "cell_type": "markdown",
   "metadata": {},
   "source": [
    "## File handlning"
   ]
  },
  {
   "cell_type": "code",
   "execution_count": null,
   "metadata": {},
   "outputs": [],
   "source": [
    "'''\n",
    "with open(path, option) as name:\n",
    "    statments...\n",
    "\n",
    "options: \n",
    "- \"r\" = read\n",
    "- \"a\" = append\n",
    "- \"w\" = write\n",
    "- \"x\" = creat file\n",
    "\n",
    "'''\n"
   ]
  },
  {
   "cell_type": "code",
   "execution_count": 17,
   "metadata": {},
   "outputs": [
    {
     "name": "stdout",
     "output_type": "stream",
     "text": [
      "  If     we     knew what it was      we were doing, it would not be called research,          would it?     - Albert Einstein\n",
      "\n",
      "Time is a drug. Too       much of it kills you.  -  Terry Pratchett\n",
      "\n",
      "\n",
      " An expert is a person who       has made all the mistakes that           can be made in a          very narrow field - Niels Bohr\n",
      "\n",
      "   Everything must be made as simple as possible. But not simpler. - Albert Einstein     \n",
      "\n",
      "\n",
      "  Nothing in life                is to be feared, it is only to be understood. Now is the time to understand more, so that we may fear less. - Marie  Curie  \n",
      "\n",
      "If I have seen further     it is by standing on the shoulders of Giants. - Isaac Newton\n"
     ]
    }
   ],
   "source": [
    "path = \"quotes.txt\"\n",
    "\n",
    "with open(path, \"r\") as f:\n",
    "    text = f.read()\n",
    "\n",
    "print(text)"
   ]
  },
  {
   "cell_type": "markdown",
   "metadata": {},
   "source": [
    "## Cleaning up quotes.txt\n",
    "\n",
    "- inspect text-file manually.\n",
    "- remove leading and trailling whitespaces.\n",
    "- remove excessiv whitespaces\n",
    "- add qoutes number."
   ]
  },
  {
   "cell_type": "code",
   "execution_count": 45,
   "metadata": {},
   "outputs": [
    {
     "name": "stdout",
     "output_type": "stream",
     "text": [
      "If we knew what it was we were doing, it would not be called research, would it? - Albert Einstein\n",
      "Time is a drug. Too much of it kills you. - Terry Pratchett\n",
      "An expert is a person who has made all the mistakes that can be made in a very narrow field - Niels Bohr\n",
      "Everything must be made as simple as possible. But not simpler. - Albert Einstein\n",
      "Nothing in life is to be feared, it is only to be understood. Now is the time to understand more, so that we may fear less. - Marie Curie\n",
      "If I have seen further it is by standing on the shoulders of Giants. - Isaac Newton\n"
     ]
    }
   ],
   "source": [
    "import re\n",
    "\n",
    "\n",
    "with open(path, \"r\") as f_read, open(\"quotes_clean.txt\", \"w\") as f_write:\n",
    "    i = 1\n",
    "    #loops through each line inte file.\n",
    "    for qoute in f_read:\n",
    "        qoute = qoute.strip() # removes leading and trailling spaces and newlines.\n",
    "        qoute = re.sub(\" +\", \" \", qoute) #regex to substitue >=1 withespaces with 1 whitespace.\n",
    "\n",
    "        #write to new file if the line is not \"\"\n",
    "        if qoute != \"\":\n",
    "            f_write.write(f\"{i}. {qoute}\\n\")\n",
    "            i+=1\n",
    "            print(qoute)\n",
    "\n",
    "        \n"
   ]
  },
  {
   "cell_type": "markdown",
   "metadata": {},
   "source": [
    "## Pick out the authors\n",
    "\n",
    "- find digit to find authors.\n",
    "- extract first name and last names.\n",
    "- join in to full name.\n",
    "- get unique values."
   ]
  },
  {
   "cell_type": "code",
   "execution_count": 46,
   "metadata": {},
   "outputs": [
    {
     "name": "stdout",
     "output_type": "stream",
     "text": [
      "[['Albert', 'Einstein'], ['Terry', 'Pratchett'], ['Niels', 'Bohr'], ['Albert', 'Einstein'], ['Marie', 'Curie'], ['Isaac', 'Newton']]\n",
      "{'Niels Bohr', 'Terry Pratchett', 'Isaac Newton', 'Marie Curie', 'Albert Einstein'}\n"
     ]
    }
   ],
   "source": [
    "\n",
    "with open(\"quotes_clean.txt\", \"r\") as f_quotes, open(\"quotes_clean.txt\", \"a\") as f_append:\n",
    "    # reads in each line as a list\n",
    "    # strips away \"\\n\"\n",
    "    quotes = [quote.strip(\"\\n\") for quote in f_quotes.readlines()]\n",
    "    authors = [quote.split()[-2:] for quote in quotes]\n",
    "    print(authors)\n",
    "\n",
    "    # Set - gives the unique elements.\n",
    "    authors = set([\" \".join(author) for author in authors])\n",
    "    print(authors)\n",
    "\n",
    "    f_append.write(\"\\nAuthors: \")\n",
    "    for author in authors:\n",
    "        f_append.write(f\"{author}, \")\n"
   ]
  },
  {
   "cell_type": "code",
   "execution_count": null,
   "metadata": {},
   "outputs": [],
   "source": []
  },
  {
   "cell_type": "code",
   "execution_count": null,
   "metadata": {},
   "outputs": [],
   "source": []
  }
 ],
 "metadata": {
  "kernelspec": {
   "display_name": "Python 3.9.12 ('base')",
   "language": "python",
   "name": "python3"
  },
  "language_info": {
   "codemirror_mode": {
    "name": "ipython",
    "version": 3
   },
   "file_extension": ".py",
   "mimetype": "text/x-python",
   "name": "python",
   "nbconvert_exporter": "python",
   "pygments_lexer": "ipython3",
   "version": "3.9.12"
  },
  "orig_nbformat": 4,
  "vscode": {
   "interpreter": {
    "hash": "40d3a090f54c6569ab1632332b64b2c03c39dcf918b08424e98f38b5ae0af88f"
   }
  }
 },
 "nbformat": 4,
 "nbformat_minor": 2
}
