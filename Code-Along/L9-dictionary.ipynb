{
 "cells": [
  {
   "cell_type": "markdown",
   "metadata": {},
   "source": [
    "## Dictionary"
   ]
  },
  {
   "cell_type": "code",
   "execution_count": 6,
   "metadata": {},
   "outputs": [
    {
     "name": "stdout",
     "output_type": "stream",
     "text": [
      "person dictionary {'name': 'philip', 'age': 18, 'work': 'Ai student', 'interests': ['Ai', 'python'], 'phone': 112}\n",
      "person work Ai student\n",
      "person age 18\n",
      "persons interests: python \n",
      "\n",
      "Philip likes Ai\n",
      "Philip likes python\n"
     ]
    }
   ],
   "source": [
    "# Create a dictionary with dick keyword\n",
    "person = dict(\n",
    "    name=\"philip\", age=18, work=\"Ai student\", interests=[\"Ai\", \"python\"], phone=112\n",
    ")\n",
    "\n",
    "print(f\"person dictionary {person}\")\n",
    "print(f\"person work {person['work']}\")\n",
    "print(f\"person age {person['age']}\")\n",
    "\n",
    "print(f\"persons interests: {person['interests'][-1]} \\n\")\n",
    "\n",
    "for interest in person[\"interests\"]:\n",
    "    print(f\"Philip likes {interest}\")\n"
   ]
  },
  {
   "cell_type": "code",
   "execution_count": 8,
   "metadata": {},
   "outputs": [
    {
     "name": "stdout",
     "output_type": "stream",
     "text": [
      "{'assign': 'assigns a value to a veriable', 'dictonary': 'datastructur to store data in key-value pairs', 'method': 'a function bound to a object'}\n",
      "Vi ska lära oss de här glosorna\n",
      "assign  -  assigns a value to a veriable\n",
      "dictonary  -  datastructur to store data in key-value pairs\n",
      "method  -  a function bound to a object\n"
     ]
    }
   ],
   "source": [
    "# Create dictionary with curly brace {}\n",
    "\n",
    "words = {\n",
    "    \"assign\": \"assigns a value to a veriable\",\n",
    "    \"dictonary\": \"datastructur to store data in key-value pairs\",\n",
    "    \"method\": \"a function bound to a object\",\n",
    "}\n",
    "\n",
    "print(words)\n",
    "print(\"Vi ska lära oss de här glosorna \\n\")\n",
    "\n",
    "for key in words:\n",
    "    print(key,\" - \", words[key])\n",
    "\n"
   ]
  },
  {
   "cell_type": "code",
   "execution_count": 11,
   "metadata": {},
   "outputs": [
    {
     "name": "stdout",
     "output_type": "stream",
     "text": [
      "Glosor: \n",
      "\n",
      "assign               assigns a value to a veriable\n",
      "dictonary            datastructur to store data in key-value pairs\n",
      "method               a function bound to a object\n",
      "....................\n"
     ]
    }
   ],
   "source": [
    "print(\"Glosor: \\n\")\n",
    "for key, value in words.items():\n",
    "    print(f\"{key:<20} {value}\") # :<20 -> right align with width 20\n",
    "\n",
    "print(\".\"*20)"
   ]
  },
  {
   "cell_type": "code",
   "execution_count": 14,
   "metadata": {},
   "outputs": [
    {
     "name": "stdout",
     "output_type": "stream",
     "text": [
      "{'F': 0, 'E': 10, 'D': 20, 'C': 30, 'B': 40, 'A': 50}\n"
     ]
    },
    {
     "data": {
      "text/plain": [
       "{'F': '< 10',\n",
       " 'E': 10,\n",
       " 'D': 20,\n",
       " 'C': 30,\n",
       " 'B': 40,\n",
       " 'A': 50,\n",
       " 'Course': 'Programmering 1'}"
      ]
     },
     "execution_count": 14,
     "metadata": {},
     "output_type": "execute_result"
    }
   ],
   "source": [
    "# f < 10, e: 10, d: 20, b: 40, a :50\n",
    "\n",
    "#empty dictionary \n",
    "grade_limit = {}\n",
    "\n",
    "for i, character in enumerate(\"ABCDEF\"[::-1]):\n",
    "    grade_limit[character] = i*10\n",
    "\n",
    "print(grade_limit)\n",
    "\n",
    "grade_limit[\"F\"] = \"< 10\"\n",
    "grade_limit[\"Course\"] = \"Programmering 1\"\n",
    "\n",
    "grade_limit"
   ]
  },
  {
   "cell_type": "markdown",
   "metadata": {},
   "source": [
    "## dictionary comprehension"
   ]
  },
  {
   "cell_type": "code",
   "execution_count": null,
   "metadata": {},
   "outputs": [],
   "source": [
    "import random as rnd\n",
    "\n",
    "grade_limit = {grade: i*10 for i, grade in enumerate(\"ABCDEF\"[::-1])}"
   ]
  }
 ],
 "metadata": {
  "kernelspec": {
   "display_name": "Python 3.9.12 ('base')",
   "language": "python",
   "name": "python3"
  },
  "language_info": {
   "codemirror_mode": {
    "name": "ipython",
    "version": 3
   },
   "file_extension": ".py",
   "mimetype": "text/x-python",
   "name": "python",
   "nbconvert_exporter": "python",
   "pygments_lexer": "ipython3",
   "version": "3.9.12"
  },
  "orig_nbformat": 4,
  "vscode": {
   "interpreter": {
    "hash": "40d3a090f54c6569ab1632332b64b2c03c39dcf918b08424e98f38b5ae0af88f"
   }
  }
 },
 "nbformat": 4,
 "nbformat_minor": 2
}
