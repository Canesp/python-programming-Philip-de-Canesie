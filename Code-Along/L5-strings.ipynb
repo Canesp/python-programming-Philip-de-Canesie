{
 "cells": [
  {
   "cell_type": "markdown",
   "metadata": {},
   "source": [
    "## Strings"
   ]
  },
  {
   "cell_type": "code",
   "execution_count": 5,
   "metadata": {},
   "outputs": [
    {
     "name": "stdout",
     "output_type": "stream",
     "text": [
      "Philip de Canesie\n",
      "\n",
      "name: Philip de Canesie,\n",
      "Age: 18,\n",
      "Address: Kungälv,\n",
      "Phone: 112\n",
      "\n"
     ]
    }
   ],
   "source": [
    "firstname = \"Philip\"\n",
    "lastname = \"de Canesie\"\n",
    "\n",
    "#concatenate strings\n",
    "name = firstname + \" \" + lastname\n",
    "age = 18\n",
    "address = \"Kungälv\"\n",
    "phone = 112\n",
    "\n",
    "print(name)\n",
    "\n",
    "#multiline f-string\n",
    "contact = f\"\"\"\n",
    "name: {name},\n",
    "Age: {age},\n",
    "Address: {address},\n",
    "Phone: {phone}\n",
    "\"\"\"\n",
    "\n",
    "print(contact)\n"
   ]
  },
  {
   "cell_type": "markdown",
   "metadata": {},
   "source": [
    "## iterate through lists and concatenate"
   ]
  },
  {
   "cell_type": "code",
   "execution_count": 7,
   "metadata": {},
   "outputs": [
    {
     "name": "stdout",
     "output_type": "stream",
     "text": [
      "Plan \n",
      "må: AI-inro\n",
      "ti: python\n",
      "on: matte\n",
      "to: självplugg\n",
      "fr: Chilla\n",
      "\n"
     ]
    }
   ],
   "source": [
    "schedule = [\"AI-inro\", \"python\", \"matte\", \"självplugg\", \"Chilla\"]\n",
    "day = [\"må\", \"ti\", \"on\", \"to\", \"fr\"]\n",
    "\n",
    "week_plan = \"Plan \\n\"\n",
    "\n",
    "for day, task in zip(day, schedule):\n",
    "    week_plan += f\"{day}: {task}\\n\"\n",
    "\n",
    "print(week_plan)\n"
   ]
  },
  {
   "cell_type": "markdown",
   "metadata": {},
   "source": [
    "## Indexing"
   ]
  },
  {
   "cell_type": "code",
   "execution_count": 4,
   "metadata": {},
   "outputs": [
    {
     "name": "stdout",
     "output_type": "stream",
     "text": [
      "quote[0]='!'\n",
      "quote[:6]='!False'\n",
      "quote[-4:]='true'\n",
      "Backwrds: quote[::-1]=\"eurt s'ti esuaceb ynnuf s'ti - eslaF!\"\n",
      "Length of string: 37 characters\n"
     ]
    }
   ],
   "source": [
    "quote = \"!False - it's funny because it's true\"\n",
    "\n",
    "print(f\"{quote[0]=}\")\n",
    "print(f\"{quote[:6]=}\")\n",
    "print(f\"{quote[-4:]=}\")\n",
    "\n",
    "print(f\"Backwrds: {quote[::-1]=}\")\n",
    "\n",
    "print(f\"Length of string: {len(quote)} characters\")"
   ]
  },
  {
   "cell_type": "markdown",
   "metadata": {},
   "source": [
    "## Split strings"
   ]
  },
  {
   "cell_type": "code",
   "execution_count": 11,
   "metadata": {},
   "outputs": [
    {
     "name": "stdout",
     "output_type": "stream",
     "text": [
      "numbers=[3.0, 3.0, 67.0]\n",
      "mean_value=73.0\n"
     ]
    }
   ],
   "source": [
    "numbers = input(\"Ange tre tal (separerade med kommatecken): \") #måste vara en string (kan inte vara int/float).\n",
    "\n",
    "# 1. split the string in to a list of 3 strings \n",
    "# 2. type convert each sting in to a float by iterating through the list\n",
    "\n",
    "numbers = [float(number) for number in numbers.split(\",\")]\n",
    "\n",
    "mean_value = sum(numbers)\n",
    "\n",
    "print(f\"{numbers=}\")\n",
    "print(f\"{mean_value=}\")\n"
   ]
  },
  {
   "cell_type": "markdown",
   "metadata": {},
   "source": [
    "## Regular expression"
   ]
  },
  {
   "cell_type": "code",
   "execution_count": 17,
   "metadata": {},
   "outputs": [
    {
     "name": "stdout",
     "output_type": "stream",
     "text": [
      "['079-3412755', '042-3213451']\n",
      "['079-3412755', '042-3213451']\n"
     ]
    }
   ],
   "source": [
    "import re \n",
    "\n",
    "text = \"Mitt telefonnummer är 079-3412755, Adas nummer är 042-3213451\"\n",
    "\n",
    "# extracta the numbers \n",
    "match1 = re.findall(r\"\\d\\d\\d-\\d\\d\\d\\d\\d\\d\\d\", text) # raw string.\n",
    "print(match1)\n",
    "\n",
    "match2 = re.findall(r\"\\d{3}-\\d{7}\", text)\n",
    "print(match2)"
   ]
  },
  {
   "cell_type": "code",
   "execution_count": 21,
   "metadata": {},
   "outputs": [
    {
     "name": "stdout",
     "output_type": "stream",
     "text": [
      "['katt', 'hatt', 'matt', 'matt']\n"
     ]
    }
   ],
   "source": [
    "text = \"Det var en gång en katt, som tog sig på en hatt, och spelade schack, \\\n",
    "fick schackmatt med hjälp av skolmatt\"\n",
    "\n",
    "match = re.findall(r\".att\", text)\n",
    "print(match)"
   ]
  },
  {
   "cell_type": "code",
   "execution_count": null,
   "metadata": {},
   "outputs": [],
   "source": []
  }
 ],
 "metadata": {
  "kernelspec": {
   "display_name": "Python 3.9.12 ('base')",
   "language": "python",
   "name": "python3"
  },
  "language_info": {
   "codemirror_mode": {
    "name": "ipython",
    "version": 3
   },
   "file_extension": ".py",
   "mimetype": "text/x-python",
   "name": "python",
   "nbconvert_exporter": "python",
   "pygments_lexer": "ipython3",
   "version": "3.9.12"
  },
  "orig_nbformat": 4,
  "vscode": {
   "interpreter": {
    "hash": "40d3a090f54c6569ab1632332b64b2c03c39dcf918b08424e98f38b5ae0af88f"
   }
  }
 },
 "nbformat": 4,
 "nbformat_minor": 2
}
