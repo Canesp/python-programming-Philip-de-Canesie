{
 "cells": [
  {
   "cell_type": "markdown",
   "metadata": {},
   "source": [
    "## OOP theory"
   ]
  },
  {
   "cell_type": "markdown",
   "metadata": {},
   "source": [
    "## Class instantiation\n",
    "\n",
    "when instantiation an object from a class\n",
    "1. __new__() is run\n",
    "2. __init__() is run -> gives the instance object its initial state "
   ]
  },
  {
   "cell_type": "code",
   "execution_count": 1,
   "metadata": {},
   "outputs": [
    {
     "name": "stdout",
     "output_type": "stream",
     "text": [
      "<__main__.Student object at 0x7fe008835b50>\n",
      "<class '__main__.Student'>\n"
     ]
    },
    {
     "data": {
      "text/plain": [
       "True"
      ]
     },
     "execution_count": 1,
     "metadata": {},
     "output_type": "execute_result"
    }
   ],
   "source": [
    "# convention for classes is PascalCase\n",
    "\n",
    "class Student:\n",
    "    pass\n",
    "\n",
    "# veriable names have snake_case\n",
    "# funktion also snake_case\n",
    "\n",
    "s1 = Student()\n",
    "# s1 has a __repr__(), but this __repr__() is in the object class. \n",
    "print(repr(s1))\n",
    "\n",
    "print(type(s1))\n",
    "\n",
    "isinstance(s1, object)"
   ]
  },
  {
   "cell_type": "code",
   "execution_count": 3,
   "metadata": {},
   "outputs": [
    {
     "data": {
      "text/plain": [
       "(True, False)"
      ]
     },
     "execution_count": 3,
     "metadata": {},
     "output_type": "execute_result"
    }
   ],
   "source": [
    "isinstance(Student, object), isinstance(s1, int)"
   ]
  },
  {
   "cell_type": "code",
   "execution_count": 4,
   "metadata": {},
   "outputs": [
    {
     "data": {
      "text/plain": [
       "False"
      ]
     },
     "execution_count": 4,
     "metadata": {},
     "output_type": "execute_result"
    }
   ],
   "source": [
    "s2 = Student()\n",
    "s1 is s2"
   ]
  },
  {
   "cell_type": "code",
   "execution_count": 5,
   "metadata": {},
   "outputs": [
    {
     "data": {
      "text/plain": [
       "('0x7fe008835b50', '0x7fe008835e50')"
      ]
     },
     "execution_count": 5,
     "metadata": {},
     "output_type": "execute_result"
    }
   ],
   "source": [
    "hex(id(s1)), hex(id(s2))"
   ]
  },
  {
   "cell_type": "markdown",
   "metadata": {},
   "source": [
    "## Attribute\n",
    "\n",
    "- can be defined in class\n",
    "- can be created on the fly (during runtime) using dot notation\n",
    "- can be created inside mathods"
   ]
  },
  {
   "cell_type": "code",
   "execution_count": 7,
   "metadata": {},
   "outputs": [
    {
     "name": "stdout",
     "output_type": "stream",
     "text": [
      "{'__module__': '__main__', 'name': 'default', '__dict__': <attribute '__dict__' of 'Student' objects>, '__weakref__': <attribute '__weakref__' of 'Student' objects>, '__doc__': None}\n"
     ]
    },
    {
     "data": {
      "text/plain": [
       "'default'"
      ]
     },
     "execution_count": 7,
     "metadata": {},
     "output_type": "execute_result"
    }
   ],
   "source": [
    "class Student:\n",
    "    name = \"default\"\n",
    "\n",
    "# Student's namespace \n",
    "print(Student.__dict__)\n",
    "\n",
    "# gets the name attribute from the class\n",
    "Student.name"
   ]
  },
  {
   "cell_type": "code",
   "execution_count": 9,
   "metadata": {},
   "outputs": [
    {
     "name": "stdout",
     "output_type": "stream",
     "text": [
      "{}\n"
     ]
    },
    {
     "data": {
      "text/plain": [
       "'default'"
      ]
     },
     "execution_count": 9,
     "metadata": {},
     "output_type": "execute_result"
    }
   ],
   "source": [
    "s1 = Student()\n",
    "print(s1.__dict__)\n",
    "s1.name"
   ]
  },
  {
   "cell_type": "code",
   "execution_count": 11,
   "metadata": {},
   "outputs": [
    {
     "name": "stdout",
     "output_type": "stream",
     "text": [
      "{'name': 'Ada', 'shoe_size': 43}\n"
     ]
    }
   ],
   "source": [
    "# Created a attribute on the fly with dot notation.\n",
    "s1.name = \"Ada\"\n",
    "s1.shoe_size = 43\n",
    "print(s1.__dict__)"
   ]
  },
  {
   "cell_type": "code",
   "execution_count": 12,
   "metadata": {},
   "outputs": [
    {
     "data": {
      "text/plain": [
       "mappingproxy({'__module__': '__main__',\n",
       "              'name': 'default',\n",
       "              '__dict__': <attribute '__dict__' of 'Student' objects>,\n",
       "              '__weakref__': <attribute '__weakref__' of 'Student' objects>,\n",
       "              '__doc__': None})"
      ]
     },
     "execution_count": 12,
     "metadata": {},
     "output_type": "execute_result"
    }
   ],
   "source": [
    "Student.__dict__"
   ]
  },
  {
   "cell_type": "code",
   "execution_count": 13,
   "metadata": {},
   "outputs": [
    {
     "data": {
      "text/plain": [
       "{}"
      ]
     },
     "execution_count": 13,
     "metadata": {},
     "output_type": "execute_result"
    }
   ],
   "source": [
    "s2 = Student()\n",
    "s2.__dict__"
   ]
  },
  {
   "cell_type": "code",
   "execution_count": 17,
   "metadata": {},
   "outputs": [
    {
     "data": {
      "text/plain": [
       "<function __main__.say_hi(self)>"
      ]
     },
     "execution_count": 17,
     "metadata": {},
     "output_type": "execute_result"
    }
   ],
   "source": [
    "# method on the fly.\n",
    "def say_hi(self):\n",
    "    print(f\"{self} Says hi!\")\n",
    "\n",
    "s1.say_hi = say_hi\n",
    "s1.__dict__"
   ]
  },
  {
   "cell_type": "markdown",
   "metadata": {},
   "source": [
    "## Namespace\n",
    "\n",
    "- class attributes live in the class namespace\n",
    "- namespace - dictionary of symbols (keys): reference to objects (values)\n",
    "\n",
    "Python will look at local scope -> enclosing scope -> global scope -> built in scope"
   ]
  },
  {
   "cell_type": "code",
   "execution_count": null,
   "metadata": {},
   "outputs": [],
   "source": [
    "# Global scope \n",
    "class Function:\n",
    "    # enclosing scope\n",
    "    def f(x):\n",
    "        #local scope\n",
    "        return x"
   ]
  },
  {
   "cell_type": "code",
   "execution_count": 21,
   "metadata": {},
   "outputs": [
    {
     "name": "stdout",
     "output_type": "stream",
     "text": [
      "{'__module__': '__main__', 'eyes': 2, 'nose': 1, 'has_tail': True, '__init__': <function Rabbit.__init__ at 0x7fe0090fb940>, '__dict__': <attribute '__dict__' of 'Rabbit' objects>, '__weakref__': <attribute '__weakref__' of 'Rabbit' objects>, '__doc__': None}\n",
      "{'name': 'Bella', 'has_tail': False}\n"
     ]
    },
    {
     "data": {
      "text/plain": [
       "False"
      ]
     },
     "execution_count": 21,
     "metadata": {},
     "output_type": "execute_result"
    }
   ],
   "source": [
    "class Rabbit:\n",
    "    # Class attributes - class namespace, not in instance namespace.\n",
    "    eyes = 2\n",
    "    nose = 1\n",
    "    has_tail = True\n",
    "\n",
    "    def __init__(self, name) -> None:\n",
    "        self.name = name\n",
    "        self.has_tail = False\n",
    "\n",
    "\n",
    "rabbit1 = Rabbit(\"Bella\")\n",
    "print(Rabbit.__dict__)\n",
    "print(rabbit1.__dict__)\n",
    "rabbit1.has_tail"
   ]
  },
  {
   "cell_type": "code",
   "execution_count": 22,
   "metadata": {},
   "outputs": [
    {
     "data": {
      "text/plain": [
       "4"
      ]
     },
     "execution_count": 22,
     "metadata": {},
     "output_type": "execute_result"
    }
   ],
   "source": [
    "import numpy as np\n",
    "\n",
    "# x is in global namespace \n",
    "x = np.linspace(-5, 5)\n",
    "\n",
    "# x here is in local scope \n",
    "f = lambda x: x**2\n",
    "\n",
    "def f(x):\n",
    "    y = x + 2\n",
    "    return y\n",
    "\n",
    "f(2)"
   ]
  },
  {
   "cell_type": "markdown",
   "metadata": {},
   "source": [
    "## Property "
   ]
  },
  {
   "cell_type": "code",
   "execution_count": 30,
   "metadata": {},
   "outputs": [
    {
     "name": "stdout",
     "output_type": "stream",
     "text": [
      "{'__module__': '__main__', '__init__': <function Square.__init__ at 0x7fe04851cd30>, 'get_side': <function Square.get_side at 0x7fe04851c670>, 'set_side': <function Square.set_side at 0x7fe04851c9d0>, '__dict__': <attribute '__dict__' of 'Square' objects>, '__weakref__': <attribute '__weakref__' of 'Square' objects>, '__doc__': None}\n",
      "{'_side': 1}\n",
      "'Square' object has no attribute 'side'\n"
     ]
    }
   ],
   "source": [
    "# without property  \n",
    "class Square:\n",
    "\n",
    "    def __init__(self, side) -> None:\n",
    "        self._side = side\n",
    "    \n",
    "    # Method\n",
    "    def get_side(self):\n",
    "        print(\"getter run\")\n",
    "        return self._side\n",
    "\n",
    "    # method\n",
    "    def set_side(self, value):\n",
    "        # validate code \n",
    "        print(\"setter run\")\n",
    "        self._side = value\n",
    "\n",
    "\n",
    "unit_square = Square(1)\n",
    "print(Square.__dict__)\n",
    "print(unit_square.__dict__)\n",
    "try:\n",
    "    unit_square.side\n",
    "except AttributeError as err:\n",
    "    print(err)"
   ]
  },
  {
   "cell_type": "code",
   "execution_count": 31,
   "metadata": {},
   "outputs": [
    {
     "name": "stdout",
     "output_type": "stream",
     "text": [
      "getter run\n",
      "setter run\n",
      "getter run\n"
     ]
    },
    {
     "data": {
      "text/plain": [
       "2"
      ]
     },
     "execution_count": 31,
     "metadata": {},
     "output_type": "execute_result"
    }
   ],
   "source": [
    "unit_square.get_side()\n",
    "unit_square.set_side(2)\n",
    "unit_square.get_side()"
   ]
  },
  {
   "cell_type": "code",
   "execution_count": 36,
   "metadata": {},
   "outputs": [
    {
     "name": "stdout",
     "output_type": "stream",
     "text": [
      "setter run\n",
      "setter run\n",
      "getter run\n"
     ]
    },
    {
     "data": {
      "text/plain": [
       "4"
      ]
     },
     "execution_count": 36,
     "metadata": {},
     "output_type": "execute_result"
    }
   ],
   "source": [
    "# property function\n",
    "class Square:\n",
    "\n",
    "    def __init__(self, side) -> None:\n",
    "        self.side = side\n",
    "    \n",
    "    # Method\n",
    "    def get_side(self):\n",
    "        print(\"getter run\")\n",
    "        return self._side\n",
    "\n",
    "    # method\n",
    "    def set_side(self, value):\n",
    "        # validate code \n",
    "        print(\"setter run\")\n",
    "        self._side = value\n",
    "\n",
    "    side = property(fget= get_side, fset= set_side)\n",
    "\n",
    "\n",
    "square2 = Square(2)\n",
    "square2.side = 4\n",
    "square2.side"
   ]
  },
  {
   "cell_type": "code",
   "execution_count": 37,
   "metadata": {},
   "outputs": [
    {
     "name": "stdout",
     "output_type": "stream",
     "text": [
      "setter run\n",
      "getter run\n"
     ]
    },
    {
     "data": {
      "text/plain": [
       "3"
      ]
     },
     "execution_count": 37,
     "metadata": {},
     "output_type": "execute_result"
    }
   ],
   "source": [
    "\n",
    "class Square:\n",
    "\n",
    "    def __init__(self, side) -> None:\n",
    "        self.side = side\n",
    "    \n",
    "    # side = property(fget=side, fset=side.setter)\n",
    "    @property\n",
    "    def side(self):\n",
    "        print(\"getter run\")\n",
    "        return self._side\n",
    "\n",
    "    @side.setter\n",
    "    def side(self, value):\n",
    "        # validate code \n",
    "        print(\"setter run\")\n",
    "        self._side = value\n",
    "\n",
    "square3 = Square(3)\n",
    "square3.side"
   ]
  },
  {
   "cell_type": "code",
   "execution_count": null,
   "metadata": {},
   "outputs": [],
   "source": []
  }
 ],
 "metadata": {
  "kernelspec": {
   "display_name": "Python 3.9.12 ('base')",
   "language": "python",
   "name": "python3"
  },
  "language_info": {
   "codemirror_mode": {
    "name": "ipython",
    "version": 3
   },
   "file_extension": ".py",
   "mimetype": "text/x-python",
   "name": "python",
   "nbconvert_exporter": "python",
   "pygments_lexer": "ipython3",
   "version": "3.9.12"
  },
  "orig_nbformat": 4,
  "vscode": {
   "interpreter": {
    "hash": "40d3a090f54c6569ab1632332b64b2c03c39dcf918b08424e98f38b5ae0af88f"
   }
  }
 },
 "nbformat": 4,
 "nbformat_minor": 2
}
