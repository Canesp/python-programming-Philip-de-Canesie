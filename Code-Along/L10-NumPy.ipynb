{
 "cells": [
  {
   "cell_type": "markdown",
   "metadata": {},
   "source": [
    "## Numpy"
   ]
  },
  {
   "cell_type": "code",
   "execution_count": 4,
   "metadata": {},
   "outputs": [
    {
     "name": "stdout",
     "output_type": "stream",
     "text": [
      "[1, 2, 3, 1, 2, 3]\n",
      "[1, 'två', True, 2.3]\n"
     ]
    }
   ],
   "source": [
    "number_list = [1, 2, 3]\n",
    "number_list = number_list*2\n",
    "\n",
    "print(number_list)\n",
    "\n",
    "# In a list we can place diffrent types of data.\n",
    "mixed_list = [1, \"två\", True, 2.3] # dynamic typing in python.\n",
    "# Elements in a list is a object, has information about it self.\n",
    "# This requires som overhead and can slow down the program.\n",
    "# Note that if its only on type of data, overhead is not nessesary.\n",
    "print(mixed_list)"
   ]
  },
  {
   "cell_type": "code",
   "execution_count": 2,
   "metadata": {},
   "outputs": [
    {
     "name": "stdout",
     "output_type": "stream",
     "text": [
      "[2 5 1]\n",
      "[ 4 10  2]\n",
      "vector1+2=array([4, 7, 3])\n",
      "vector1[2]=1\n",
      "vector1[-1]=1\n",
      "vector1[1:]=array([5, 1])\n",
      "[   2 1337    1]\n",
      "vector1=array([   1,    2, 1337])\n",
      "vector1.sum()=1340\n",
      "vector1.mean()=446.67\n"
     ]
    }
   ],
   "source": [
    "import numpy as np\n",
    "\n",
    "# Creat a array from a list.\n",
    "vector1 = np.array([2, 5, 1])\n",
    "# Elementwise multiplication.\n",
    "vector2 = vector1*2\n",
    "\n",
    "print(vector1)\n",
    "print(vector2)\n",
    "\n",
    "print(f\"{vector1+2=}\")\n",
    "# Indexing.\n",
    "print(f\"{vector1[2]=}\")\n",
    "print(f\"{vector1[-1]=}\")\n",
    "print(f\"{vector1[1:]=}\")\n",
    "\n",
    "vector1[1] = 1337\n",
    "print(vector1)\n",
    "\n",
    "# cant append to an array, cant make the size bigger.\n",
    "\n",
    "#sort\n",
    "vector1.sort()\n",
    "print(f\"{vector1=}\") \n",
    " \n",
    "#Sum\n",
    "print(f\"{vector1.sum()=}\")\n",
    "print(f\"{vector1.mean()=:.2f}\")\n",
    " "
   ]
  },
  {
   "cell_type": "code",
   "execution_count": 23,
   "metadata": {},
   "outputs": [
    {
     "name": "stdout",
     "output_type": "stream",
     "text": [
      "ones_vector=array([1., 1., 1., 1., 1., 1., 1., 1., 1., 1.])\n",
      "matrix_3x3=array([[1., 1., 1.],\n",
      "       [1., 1., 1.],\n",
      "       [1., 1., 1.]])\n"
     ]
    },
    {
     "data": {
      "text/plain": [
       "array([[ 1.,  1.,  1.],\n",
       "       [ 1.,  1.,  1.],\n",
       "       [ 1., 10.,  1.]])"
      ]
     },
     "execution_count": 23,
     "metadata": {},
     "output_type": "execute_result"
    }
   ],
   "source": [
    "ones_vector = np.ones(10)\n",
    "print(f\"{ones_vector=}\")\n",
    "\n",
    "# 2d array of 3x3\n",
    "matrix_3x3 = np.ones((3,3))\n",
    "print(f\"{matrix_3x3=}\")\n",
    "\n",
    "# [row, index] - from count 0\n",
    "matrix_3x3[2, 1] = 10\n",
    "matrix_3x3"
   ]
  },
  {
   "cell_type": "code",
   "execution_count": 24,
   "metadata": {},
   "outputs": [
    {
     "data": {
      "text/plain": [
       "array([[0., 0., 0., 0., 0.],\n",
       "       [0., 0., 0., 0., 0.]])"
      ]
     },
     "execution_count": 24,
     "metadata": {},
     "output_type": "execute_result"
    }
   ],
   "source": [
    "np.zeros((2,5))"
   ]
  },
  {
   "cell_type": "code",
   "execution_count": 29,
   "metadata": {},
   "outputs": [
    {
     "name": "stdout",
     "output_type": "stream",
     "text": [
      "(3, 3)\n",
      "[ 1. 10.  1.]\n",
      "[ 1.  1. 10.]\n"
     ]
    },
    {
     "data": {
      "text/plain": [
       "array([ 2., 11., 11.])"
      ]
     },
     "execution_count": 29,
     "metadata": {},
     "output_type": "execute_result"
    }
   ],
   "source": [
    "print(matrix_3x3.shape)\n",
    "\n",
    "# Slicing operator to get a row\n",
    "print(f\"{matrix_3x3[2,:]}\")\n",
    "\n",
    "# slicing opertaor to get a column\n",
    "print(f\"{matrix_3x3[:, 1]}\")\n",
    "\n",
    "# add 2 vectors\n",
    "matrix_3x3[2,:] + matrix_3x3[:,1]\n"
   ]
  },
  {
   "cell_type": "markdown",
   "metadata": {},
   "source": [
    "### Dice simulation"
   ]
  },
  {
   "cell_type": "code",
   "execution_count": 3,
   "metadata": {},
   "outputs": [
    {
     "data": {
      "text/plain": [
       "array([3, 1, 4, 5, 4, 3, 4, 6, 3, 3, 4, 4, 2, 3, 6, 6, 1, 2, 5, 2, 5, 6,\n",
       "       2, 5, 5, 6, 2, 4, 2, 4, 3, 4, 6, 5, 4, 6, 1, 1, 6, 3, 6, 1, 4, 3,\n",
       "       2, 4, 6, 4, 2, 2, 2, 4, 2, 6, 5, 3, 1, 6, 6, 1, 3, 2, 5, 6, 6, 1,\n",
       "       3, 4, 4, 1, 1, 4, 3, 2, 3, 1, 6, 3, 5, 3, 5, 6, 1, 1, 5, 1, 1, 6,\n",
       "       3, 1, 2, 6, 4, 3, 4, 1, 3, 1, 6, 5])"
      ]
     },
     "execution_count": 3,
     "metadata": {},
     "output_type": "execute_result"
    }
   ],
   "source": [
    "import matplotlib.pyplot as plt\n",
    "\n",
    "dice = np.random.randint(1, 7, 100)\n",
    "dice\n"
   ]
  },
  {
   "cell_type": "code",
   "execution_count": 5,
   "metadata": {},
   "outputs": [
    {
     "name": "stdout",
     "output_type": "stream",
     "text": [
      "[-3.         -2.79591837 -2.59183673 -2.3877551  -2.18367347 -1.97959184\n",
      " -1.7755102  -1.57142857 -1.36734694 -1.16326531 -0.95918367 -0.75510204\n",
      " -0.55102041 -0.34693878 -0.14285714  0.06122449  0.26530612  0.46938776\n",
      "  0.67346939  0.87755102  1.08163265  1.28571429  1.48979592  1.69387755\n",
      "  1.89795918  2.10204082  2.30612245  2.51020408  2.71428571  2.91836735\n",
      "  3.12244898  3.32653061  3.53061224  3.73469388  3.93877551  4.14285714\n",
      "  4.34693878  4.55102041  4.75510204  4.95918367  5.16326531  5.36734694\n",
      "  5.57142857  5.7755102   5.97959184  6.18367347  6.3877551   6.59183673\n",
      "  6.79591837  7.        ]\n"
     ]
    },
    {
     "data": {
      "text/plain": [
       "[<matplotlib.lines.Line2D at 0x7fb6983dfee0>]"
      ]
     },
     "execution_count": 5,
     "metadata": {},
     "output_type": "execute_result"
    },
    {
     "data": {
      "image/png": "[encoded data removed]",
      "text/plain": [
       "<Figure size 432x288 with 1 Axes>"
      ]
     },
     "metadata": {
      "needs_background": "light"
     },
     "output_type": "display_data"
    }
   ],
   "source": [
    "x = np.linspace(-5, 5)\n",
    "x\n",
    "f = lambda x: x+2\n",
    "\n",
    "print(f(x))\n",
    "plt.plot(x, f(x))\n"
   ]
  },
  {
   "cell_type": "code",
   "execution_count": 6,
   "metadata": {},
   "outputs": [
    {
     "data": {
      "text/plain": [
       "array([0, 1, 2, 3, 4, 5, 6, 7, 8, 9])"
      ]
     },
     "execution_count": 6,
     "metadata": {},
     "output_type": "execute_result"
    }
   ],
   "source": [
    "np.arange(10)"
   ]
  },
  {
   "cell_type": "markdown",
   "metadata": {},
   "source": [
    "### Performace"
   ]
  },
  {
   "cell_type": "code",
   "execution_count": 8,
   "metadata": {},
   "outputs": [
    {
     "name": "stdout",
     "output_type": "stream",
     "text": [
      "618 ms ± 3.84 ms per loop (mean ± std. dev. of 7 runs, 1 loop each)\n"
     ]
    }
   ],
   "source": [
    "%%timeit\n",
    "import random as rnd\n",
    "\n",
    "number_dices = 1_000_000\n",
    "\n",
    "many_dices = []\n",
    "\n",
    "for dice in range(number_dices):\n",
    "    many_dices.append(rnd.randint(1, 6))\n",
    "\n",
    "many_dices\n"
   ]
  },
  {
   "cell_type": "code",
   "execution_count": 12,
   "metadata": {},
   "outputs": [
    {
     "name": "stdout",
     "output_type": "stream",
     "text": [
      "597 ms ± 3.56 ms per loop (mean ± std. dev. of 7 runs, 1 loop each)\n"
     ]
    }
   ],
   "source": [
    "%%timeit\n",
    "import random as rnd\n",
    "\n",
    "number_dices = 1_000_000\n",
    "\n",
    "many_dices = [rnd.randint(1,6) for _ in range(number_dices)]\n",
    "\n",
    "many_dices"
   ]
  },
  {
   "cell_type": "code",
   "execution_count": 14,
   "metadata": {},
   "outputs": [
    {
     "name": "stdout",
     "output_type": "stream",
     "text": [
      "9.57 ms ± 29 µs per loop (mean ± std. dev. of 7 runs, 100 loops each)\n"
     ]
    }
   ],
   "source": [
    "%%timeit\n",
    "import random as rnd\n",
    "\n",
    "number_dices = 1_000_000\n",
    "\n",
    "many_dices = np.random.randint(1,7, number_dices)\n",
    "\n",
    "many_dices"
   ]
  },
  {
   "cell_type": "code",
   "execution_count": null,
   "metadata": {},
   "outputs": [],
   "source": []
  }
 ],
 "metadata": {
  "kernelspec": {
   "display_name": "Python 3.9.12 ('base')",
   "language": "python",
   "name": "python3"
  },
  "language_info": {
   "codemirror_mode": {
    "name": "ipython",
    "version": 3
   },
   "file_extension": ".py",
   "mimetype": "text/x-python",
   "name": "python",
   "nbconvert_exporter": "python",
   "pygments_lexer": "ipython3",
   "version": "3.9.12"
  },
  "orig_nbformat": 4,
  "vscode": {
   "interpreter": {
    "hash": "40d3a090f54c6569ab1632332b64b2c03c39dcf918b08424e98f38b5ae0af88f"
   }
  }
 },
 "nbformat": 4,
 "nbformat_minor": 2
}
