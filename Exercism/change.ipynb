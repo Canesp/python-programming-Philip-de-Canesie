{
 "cells": [
  {
   "cell_type": "code",
   "execution_count": 24,
   "metadata": {},
   "outputs": [
    {
     "name": "stdout",
     "output_type": "stream",
     "text": [
      "1.03 µs ± 9.12 ns per loop (mean ± std. dev. of 7 runs, 1,000,000 loops each)\n"
     ]
    }
   ],
   "source": [
    "%%timeit\n",
    "\n",
    "target = [1, 1.5, 5, 10, 25, 100]\n",
    "coins = 156.7\n",
    "\n",
    "return_list = []\n",
    "sum = coins\n",
    "\n",
    "for value in reversed(target):\n",
    "    while True:\n",
    "        if (sum - value) >= 0:\n",
    "            sum -= value\n",
    "            return_list.append(value)\n",
    "        else: \n",
    "            break\n",
    "\n",
    "#print(return_list[::-1])"
   ]
  },
  {
   "cell_type": "code",
   "execution_count": 27,
   "metadata": {},
   "outputs": [
    {
     "name": "stdout",
     "output_type": "stream",
     "text": [
      "{1: 166938, 2: 166753, 3: 166586, 4: 166393, 5: 166335, 6: 166995}\n",
      "{1: 166751, 2: 167091, 3: 166167, 4: 167068, 5: 166343, 6: 166580}\n",
      "{1: 166033, 2: 166761, 3: 166007, 4: 166701, 5: 167030, 6: 167468}\n",
      "{1: 166225, 2: 166321, 3: 167123, 4: 166849, 5: 166909, 6: 166573}\n",
      "{1: 166183, 2: 166814, 3: 166631, 4: 166405, 5: 167271, 6: 166696}\n",
      "{1: 166612, 2: 166224, 3: 166460, 4: 167218, 5: 166727, 6: 166759}\n",
      "{1: 166882, 2: 166949, 3: 166723, 4: 166588, 5: 166590, 6: 166268}\n",
      "{1: 166906, 2: 166557, 3: 166969, 4: 165729, 5: 167111, 6: 166728}\n",
      "662 ms ± 2.26 ms per loop (mean ± std. dev. of 7 runs, 1 loop each)\n"
     ]
    }
   ],
   "source": [
    "#%%timeit\n",
    "\n",
    "import random as rnd\n",
    "\n",
    "sim = {1: 0, 2: 0, 3: 0, 4: 0, 5: 0, 6: 0}\n",
    "\n",
    "for I in range(1000000):\n",
    "\tr = rnd.randint(1, 6)\n",
    "\tsim[r] += 1\n",
    "\n",
    "print(sim)"
   ]
  },
  {
   "cell_type": "code",
   "execution_count": 31,
   "metadata": {},
   "outputs": [
    {
     "name": "stdout",
     "output_type": "stream",
     "text": [
      "{'roll1': 167363, 'roll2': 166328, 'roll3': 166382, 'roll4': 167064, 'roll5': 166641, 'roll6': 166222}\n",
      "{'roll1': 166743, 'roll2': 167097, 'roll3': 166193, 'roll4': 166973, 'roll5': 166915, 'roll6': 166079}\n",
      "{'roll1': 166182, 'roll2': 166808, 'roll3': 167337, 'roll4': 166080, 'roll5': 166681, 'roll6': 166912}\n",
      "{'roll1': 167013, 'roll2': 166624, 'roll3': 166448, 'roll4': 166677, 'roll5': 166398, 'roll6': 166840}\n",
      "{'roll1': 166767, 'roll2': 166667, 'roll3': 166432, 'roll4': 167202, 'roll5': 166387, 'roll6': 166545}\n",
      "{'roll1': 166748, 'roll2': 166220, 'roll3': 166471, 'roll4': 167098, 'roll5': 166628, 'roll6': 166835}\n",
      "{'roll1': 167248, 'roll2': 166573, 'roll3': 166578, 'roll4': 166063, 'roll5': 166534, 'roll6': 167004}\n",
      "{'roll1': 166561, 'roll2': 166493, 'roll3': 167015, 'roll4': 166933, 'roll5': 166554, 'roll6': 166444}\n",
      "753 ms ± 3.43 ms per loop (mean ± std. dev. of 7 runs, 1 loop each)\n"
     ]
    }
   ],
   "source": [
    "%%timeit\n",
    "\n",
    "import random as rnd\n",
    "rolls = [rnd.randint(1,6) for i in range(1000000)]\n",
    "\n",
    "dice_rolls = dict(\n",
    "    roll1 = rolls.count(1),\n",
    "    roll2 = rolls.count(2),\n",
    "    roll3 = rolls.count(3),\n",
    "    roll4 = rolls.count(4),\n",
    "    roll5 = rolls.count(5),\n",
    "    roll6 = rolls.count(6)\n",
    ")\n",
    "print(dice_rolls)"
   ]
  },
  {
   "cell_type": "code",
   "execution_count": 39,
   "metadata": {},
   "outputs": [
    {
     "name": "stdout",
     "output_type": "stream",
     "text": [
      "v42\n",
      "Chili sin carne\n",
      "Pannkakor\n",
      "Ärtsoppa\n",
      "Kebab\n",
      "Vegetarisk lasagne"
     ]
    }
   ],
   "source": [
    "with open(\"bamba.txt\", \"r\") as file:\n",
    "\t\n",
    "    lines = file.readlines()\n",
    "    \n",
    "    for i in lines:\n",
    "        print(i, end = \"\")\n",
    "    \n"
   ]
  },
  {
   "cell_type": "code",
   "execution_count": 40,
   "metadata": {},
   "outputs": [
    {
     "name": "stdout",
     "output_type": "stream",
     "text": [
      "10\n",
      "2\n"
     ]
    }
   ],
   "source": [
    "point1 = (10, 2)\n",
    "\n",
    "x1, y1 = point1\n",
    "\n",
    "print(x1)\n",
    "print(y1)"
   ]
  },
  {
   "cell_type": "code",
   "execution_count": 47,
   "metadata": {},
   "outputs": [
    {
     "data": {
      "text/plain": [
       "[10.0, 20.0, 30.0, 40.0]"
      ]
     },
     "execution_count": 47,
     "metadata": {},
     "output_type": "execute_result"
    }
   ],
   "source": [
    "s = \"(10, 20), (30, 40)\"\n",
    "t = [i.strip(\"() \\n\") for i in s.split(\",\")]\n",
    "t = [float(i) for i in t]\n",
    "t"
   ]
  },
  {
   "cell_type": "code",
   "execution_count": 48,
   "metadata": {},
   "outputs": [
    {
     "name": "stdout",
     "output_type": "stream",
     "text": [
      "e\n"
     ]
    }
   ],
   "source": [
    "frukter = [\"jordgubbe\", \"vindruva\", \"grape\"]\n",
    "godfrukt = frukter[2]\n",
    "print(godfrukt[-1])"
   ]
  }
 ],
 "metadata": {
  "kernelspec": {
   "display_name": "Python 3.9.12 ('base')",
   "language": "python",
   "name": "python3"
  },
  "language_info": {
   "codemirror_mode": {
    "name": "ipython",
    "version": 3
   },
   "file_extension": ".py",
   "mimetype": "text/x-python",
   "name": "python",
   "nbconvert_exporter": "python",
   "pygments_lexer": "ipython3",
   "version": "3.9.12"
  },
  "orig_nbformat": 4,
  "vscode": {
   "interpreter": {
    "hash": "40d3a090f54c6569ab1632332b64b2c03c39dcf918b08424e98f38b5ae0af88f"
   }
  }
 },
 "nbformat": 4,
 "nbformat_minor": 2
}
